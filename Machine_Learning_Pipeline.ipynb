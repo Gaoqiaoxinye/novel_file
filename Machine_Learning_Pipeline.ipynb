{
  "nbformat": 4,
  "nbformat_minor": 0,
  "metadata": {
    "colab": {
      "provenance": [],
      "gpuType": "T4",
      "authorship_tag": "ABX9TyN2ZBb2V71H7+6OpUJHZ3ij",
      "include_colab_link": true
    },
    "kernelspec": {
      "name": "python3",
      "display_name": "Python 3"
    },
    "language_info": {
      "name": "python"
    }
  },
  "cells": [
    {
      "cell_type": "markdown",
      "metadata": {
        "id": "view-in-github",
        "colab_type": "text"
      },
      "source": [
        "<a href=\"https://colab.research.google.com/github/Gaoqiaoxinye/novel_file/blob/main/Machine_Learning_Pipeline.ipynb\" target=\"_parent\"><img src=\"https://colab.research.google.com/assets/colab-badge.svg\" alt=\"Open In Colab\"/></a>"
      ]
    },
    {
      "cell_type": "markdown",
      "source": [
        "# Configuration Preparation"
      ],
      "metadata": {
        "id": "MF3A57NgUArx"
      }
    },
    {
      "cell_type": "code",
      "source": [
        "!pip install imbalanced-learn==0.9.0"
      ],
      "metadata": {
        "colab": {
          "base_uri": "https://localhost:8080/"
        },
        "id": "cRakRA_mdWrZ",
        "outputId": "6b673581-2650-41bd-a5cc-b2d2496cb67f"
      },
      "execution_count": 14,
      "outputs": [
        {
          "output_type": "stream",
          "name": "stdout",
          "text": [
            "Collecting imbalanced-learn==0.9.0\n",
            "  Downloading imbalanced_learn-0.9.0-py3-none-any.whl (199 kB)\n",
            "\u001b[2K     \u001b[90m━━━━━━━━━━━━━━━━━━━━━━━━━━━━━━━━━━━━━━━━\u001b[0m \u001b[32m199.1/199.1 kB\u001b[0m \u001b[31m2.5 MB/s\u001b[0m eta \u001b[36m0:00:00\u001b[0m\n",
            "\u001b[?25hRequirement already satisfied: numpy>=1.14.6 in /usr/local/lib/python3.10/dist-packages (from imbalanced-learn==0.9.0) (1.25.2)\n",
            "Requirement already satisfied: scipy>=1.1.0 in /usr/local/lib/python3.10/dist-packages (from imbalanced-learn==0.9.0) (1.11.4)\n",
            "Requirement already satisfied: scikit-learn>=1.0.1 in /usr/local/lib/python3.10/dist-packages (from imbalanced-learn==0.9.0) (1.4.2)\n",
            "Requirement already satisfied: joblib>=0.11 in /usr/local/lib/python3.10/dist-packages (from imbalanced-learn==0.9.0) (1.4.0)\n",
            "Requirement already satisfied: threadpoolctl>=2.0.0 in /usr/local/lib/python3.10/dist-packages (from imbalanced-learn==0.9.0) (3.4.0)\n",
            "Installing collected packages: imbalanced-learn\n",
            "  Attempting uninstall: imbalanced-learn\n",
            "    Found existing installation: imbalanced-learn 0.12.2\n",
            "    Uninstalling imbalanced-learn-0.12.2:\n",
            "      Successfully uninstalled imbalanced-learn-0.12.2\n",
            "Successfully installed imbalanced-learn-0.9.0\n"
          ]
        }
      ]
    },
    {
      "cell_type": "code",
      "source": [
        "!pip install scikit-learn\n",
        "import sklearn\n",
        "print(sklearn.__version__)"
      ],
      "metadata": {
        "colab": {
          "base_uri": "https://localhost:8080/"
        },
        "id": "UJTs6qIJTztZ",
        "outputId": "9eb2c541-78a4-46f8-91d2-ff04748385a0"
      },
      "execution_count": 2,
      "outputs": [
        {
          "output_type": "stream",
          "name": "stdout",
          "text": [
            "Requirement already satisfied: scikit-learn in /usr/local/lib/python3.10/dist-packages (1.2.2)\n",
            "Requirement already satisfied: numpy>=1.17.3 in /usr/local/lib/python3.10/dist-packages (from scikit-learn) (1.25.2)\n",
            "Requirement already satisfied: scipy>=1.3.2 in /usr/local/lib/python3.10/dist-packages (from scikit-learn) (1.11.4)\n",
            "Requirement already satisfied: joblib>=1.1.1 in /usr/local/lib/python3.10/dist-packages (from scikit-learn) (1.4.0)\n",
            "Requirement already satisfied: threadpoolctl>=2.0.0 in /usr/local/lib/python3.10/dist-packages (from scikit-learn) (3.4.0)\n",
            "1.2.2\n"
          ]
        }
      ]
    },
    {
      "cell_type": "code",
      "source": [
        "!pip install --upgrade scikit-learn"
      ],
      "metadata": {
        "colab": {
          "base_uri": "https://localhost:8080/",
          "height": 392
        },
        "id": "Bx-rOZPjT1c2",
        "outputId": "052b4886-5660-4723-a641-e498bb13b733"
      },
      "execution_count": 3,
      "outputs": [
        {
          "output_type": "stream",
          "name": "stdout",
          "text": [
            "Requirement already satisfied: scikit-learn in /usr/local/lib/python3.10/dist-packages (1.2.2)\n",
            "Collecting scikit-learn\n",
            "  Downloading scikit_learn-1.4.2-cp310-cp310-manylinux_2_17_x86_64.manylinux2014_x86_64.whl (12.1 MB)\n",
            "\u001b[2K     \u001b[90m━━━━━━━━━━━━━━━━━━━━━━━━━━━━━━━━━━━━━━━━\u001b[0m \u001b[32m12.1/12.1 MB\u001b[0m \u001b[31m49.4 MB/s\u001b[0m eta \u001b[36m0:00:00\u001b[0m\n",
            "\u001b[?25hRequirement already satisfied: numpy>=1.19.5 in /usr/local/lib/python3.10/dist-packages (from scikit-learn) (1.25.2)\n",
            "Requirement already satisfied: scipy>=1.6.0 in /usr/local/lib/python3.10/dist-packages (from scikit-learn) (1.11.4)\n",
            "Requirement already satisfied: joblib>=1.2.0 in /usr/local/lib/python3.10/dist-packages (from scikit-learn) (1.4.0)\n",
            "Requirement already satisfied: threadpoolctl>=2.0.0 in /usr/local/lib/python3.10/dist-packages (from scikit-learn) (3.4.0)\n",
            "Installing collected packages: scikit-learn\n",
            "  Attempting uninstall: scikit-learn\n",
            "    Found existing installation: scikit-learn 1.2.2\n",
            "    Uninstalling scikit-learn-1.2.2:\n",
            "      Successfully uninstalled scikit-learn-1.2.2\n",
            "Successfully installed scikit-learn-1.4.2\n"
          ]
        },
        {
          "output_type": "display_data",
          "data": {
            "application/vnd.colab-display-data+json": {
              "pip_warning": {
                "packages": [
                  "sklearn"
                ]
              },
              "id": "1aca9ceae5834e12afcf877a2dd3d5d3"
            }
          },
          "metadata": {}
        }
      ]
    },
    {
      "cell_type": "code",
      "source": [
        "%reset\n",
        "# restart the kernel"
      ],
      "metadata": {
        "colab": {
          "base_uri": "https://localhost:8080/"
        },
        "id": "mmFjEj_-ezAg",
        "outputId": "4ab96559-ad52-43eb-e605-149f3b9f19c1"
      },
      "execution_count": 15,
      "outputs": [
        {
          "name": "stdout",
          "output_type": "stream",
          "text": [
            "Once deleted, variables cannot be recovered. Proceed (y/[n])? y\n"
          ]
        }
      ]
    },
    {
      "cell_type": "markdown",
      "source": [
        "## Data preparation"
      ],
      "metadata": {
        "id": "kx399e-amAKe"
      }
    },
    {
      "cell_type": "code",
      "source": [
        "# Select the labels for the following analysis.\n",
        "target_names = [\"non-severe pneumonia\",\"severe pneumonia\"]\n",
        "# target_names = [\"non pneumonia\", \"pneumonia\"]"
      ],
      "metadata": {
        "id": "U6DzwWz9Rxzd"
      },
      "execution_count": 16,
      "outputs": []
    },
    {
      "cell_type": "markdown",
      "source": [
        "Procedure:\n",
        "1. drop the columns with all elements being NaN values;\n",
        "2. drop the columns with a high proportion of missing values;\n",
        "3. complement the missing values by 'mean' strategy;\n",
        "4. calculate the ratio of labels."
      ],
      "metadata": {
        "id": "TBC0KmO0nWMl"
      }
    },
    {
      "cell_type": "code",
      "source": [
        "import pandas as pd\n",
        "from sklearn.model_selection import train_test_split\n",
        "from sklearn.impute import SimpleImputer\n",
        "from sklearn.preprocessing import StandardScaler\n",
        "\n",
        "# Import the DataFrame (replace 'file.xlsx' with your actual file path)\n",
        "df = pd.read_excel('for_analysis.xlsx', sheet_name=\"pneumonia\")\n",
        "df = df.iloc[:,1:] # remove the column title being \"Patient_ID\"\n",
        "df = df.dropna(axis=1, how=\"all\")\n",
        "\n",
        "# Processing columns and rows with giant missing value counts.\n",
        "# calculate the percent of missing values for each column\n",
        "missing_percent_column =df.isnull().mean()\n",
        "# Calculate the percentage of missing values for each row\n",
        "missing_percent_row = df.isnull().mean(axis=1)\n",
        "# set the cutoffs\n",
        "cutoff_column = 0.75\n",
        "cutoff_row = 0.9\n",
        "# identify and remove the columns with the value greateer than the cutoff\n",
        "columns_to_drop = missing_percent_column[missing_percent_column >cutoff_column].index\n",
        "# drop these columns from the dataframe\n",
        "df.drop(columns=columns_to_drop, inplace = True)\n",
        "# Filter rows based on the cutoff\n",
        "df = df[missing_percent_row <= cutoff_row]\n",
        "\n",
        "# Processing missing values.\n",
        "# Handle NaN values using imputation, with the preliminary condition being that all labels are valid\n",
        "# The fit_transform method combines two steps:\n",
        "# fit: It learns about the data (e.g., computes mean, median, etc.) based on the non-missing values.\n",
        "# transform: It applies the learned information to fill in the missing values.\n",
        "imputer = SimpleImputer(strategy='mean')\n",
        "df.iloc[:, 1:]  = imputer.fit_transform(df.iloc[:, 1:])\n",
        "# raw code: df.iloc[:, 2:] = imputer.fit_transform(df.iloc[:, 2:])\n",
        "# Tips: the returned values of .fit_transform is a Numpy array, not a pandas DataFrame\n",
        "\n",
        "# If 'df' is a NumPy array, convert it to a pandas DataFrame\n",
        "# Convert the imputed data back to a pandas DataFrame\n",
        "# df = pd.DataFrame(df, columns=df.cloumns)\n",
        "\n",
        "# Preprocess the data (scaling)\n",
        "scaler = StandardScaler()  # Create an instance of the StandardScaler class.\n",
        "df.iloc[:, 1:] = scaler.fit_transform(df.iloc[:, 1:])  # Fit the scaler to the data and then transform it.\n",
        "# preparing the dataset X (which could be a set of features in your dataset)\n",
        "# so that it can be effectively used in machine learning models by giving each feature a mean of 0 and a variance of 1,\n",
        "# which helps in speeding up the convergence of learning algorithms.\n"
      ],
      "metadata": {
        "id": "_tpGprynmDRO"
      },
      "execution_count": 17,
      "outputs": []
    },
    {
      "cell_type": "markdown",
      "source": [
        "Now, we have gotton the novel DataFrame for the following steps."
      ],
      "metadata": {
        "id": "WoIBx_5LQv-D"
      }
    },
    {
      "cell_type": "code",
      "source": [
        "df.shape"
      ],
      "metadata": {
        "colab": {
          "base_uri": "https://localhost:8080/"
        },
        "id": "l8aFdyrTJdZz",
        "outputId": "79ebd5db-ad99-4af9-88ad-599705c3f61b"
      },
      "execution_count": 18,
      "outputs": [
        {
          "output_type": "execute_result",
          "data": {
            "text/plain": [
              "(5446, 71)"
            ]
          },
          "metadata": {},
          "execution_count": 18
        }
      ]
    },
    {
      "cell_type": "code",
      "source": [
        "df"
      ],
      "metadata": {
        "id": "ylG8B9RCPZJc",
        "colab": {
          "base_uri": "https://localhost:8080/",
          "height": 652
        },
        "outputId": "10c9caf9-c840-4995-e5fb-a8c77712c1c9"
      },
      "execution_count": 19,
      "outputs": [
        {
          "output_type": "execute_result",
          "data": {
            "text/plain": [
              "      pneumonia     白细胞计数   中性粒细胞比率    淋巴细胞比率    单核细胞比率   嗜酸粒细胞比率   嗜碱粒细胞比率  \\\n",
              "0             1  1.048237 -0.761565  0.066310  3.815783 -0.206364 -0.990071   \n",
              "1             0 -1.485031 -0.285387  0.434554 -0.459267 -0.246060  0.280581   \n",
              "2             1  3.418818  1.479573 -1.557309  0.208709 -0.523929 -0.566520   \n",
              "3             0 -0.137054  0.956814 -1.044000  0.395743 -0.563624  0.704132   \n",
              "4             1  0.037254 -0.378553  0.546143 -1.528030  1.262371  0.280581   \n",
              "...         ...       ...       ...       ...       ...       ...       ...   \n",
              "5617          0  0.167403  0.242548 -0.112232 -0.218796 -0.682711 -0.566520   \n",
              "5618          1  0.729835  0.139031 -0.073176 -0.218796 -0.365146  1.551233   \n",
              "5619          1 -0.069655  1.572738 -1.562888 -0.111920 -0.841493  0.704132   \n",
              "5620          1  1.836106 -1.382665  1.422116 -0.165358  0.666938  0.704132   \n",
              "5621          1 -1.020211  0.004459 -0.151288  0.796529 -0.166669  0.280581   \n",
              "\n",
              "       中性粒细胞计数    淋巴细胞计数    单核细胞计数  ...    二氧化碳总量          氧饱和度  凝血酶原时间-INR值  \\\n",
              "0    -0.004856  0.897447  4.845495  ...  0.000000  3.246104e-15     1.191831   \n",
              "1    -1.021209 -0.944041 -1.184726  ...  0.000000  3.246104e-15    -0.678573   \n",
              "2     4.132724 -0.222547  2.999509  ...  0.000000  3.246104e-15    -0.390818   \n",
              "3     0.340945 -0.713331  0.189508  ...  0.594184  3.423401e-01     0.328568   \n",
              "4    -0.230378  0.465390 -1.020638  ... -2.065492  5.707643e-01     0.760199   \n",
              "...        ...       ...       ...  ...       ...           ...          ...   \n",
              "5617  0.193604  0.096253  0.004909  ... -0.403195  7.991886e-01     0.000000   \n",
              "5618  0.506328  0.524116  0.394618  ... -0.403195  3.423401e-01     0.000000   \n",
              "5619  0.713808 -1.032130 -0.097645  ... -0.070735  5.707643e-01     0.000000   \n",
              "5620 -0.272476  3.225525  1.215056  ... -1.400573  3.423401e-01     0.000000   \n",
              "5621 -0.684429 -0.746889 -0.446332  ...  1.591563  1.027613e+00     0.000000   \n",
              "\n",
              "         纤维蛋白原        凝血酶原时间    活化部分凝血活酶时间     凝血酶时间     D-二聚体      纤维蛋白降解产物  \\\n",
              "0    -1.103085  9.219479e-01 -1.437917e+00 -1.204609  0.836619  2.684020e-01   \n",
              "1    -1.862449 -8.930557e-01 -3.705185e-01  1.062409 -0.609340 -4.246412e-01   \n",
              "2     1.971111 -5.300550e-01  1.409436e-01  1.425131 -0.324448 -2.151165e-01   \n",
              "3    -0.833634  7.494618e-02 -1.104355e+00 -1.023248 -0.195441 -3.762894e-01   \n",
              "4    -0.894873  5.589471e-01  3.855558e-01 -1.023248 -0.555586 -3.762894e-01   \n",
              "...        ...           ...           ...       ...       ...           ...   \n",
              "5617  0.000000  2.149396e-15 -7.900340e-16  0.000000  0.000000  7.157511e-17   \n",
              "5618  0.000000  2.149396e-15 -7.900340e-16  0.000000  0.000000  7.157511e-17   \n",
              "5619  0.000000  2.149396e-15 -7.900340e-16  0.000000  0.000000  7.157511e-17   \n",
              "5620  0.000000  2.149396e-15 -7.900340e-16  0.000000  0.000000  7.157511e-17   \n",
              "5621  0.000000  2.149396e-15 -7.900340e-16  0.000000  0.000000  7.157511e-17   \n",
              "\n",
              "              白介素6  \n",
              "0    -1.933533e-01  \n",
              "1    -3.445052e-17  \n",
              "2    -3.445052e-17  \n",
              "3    -2.593411e-01  \n",
              "4    -2.256926e-01  \n",
              "...            ...  \n",
              "5617 -3.445052e-17  \n",
              "5618 -3.445052e-17  \n",
              "5619 -3.445052e-17  \n",
              "5620 -3.445052e-17  \n",
              "5621 -3.445052e-17  \n",
              "\n",
              "[5446 rows x 71 columns]"
            ],
            "text/html": [
              "\n",
              "  <div id=\"df-552f4626-592c-481d-a0b3-f83c51631585\" class=\"colab-df-container\">\n",
              "    <div>\n",
              "<style scoped>\n",
              "    .dataframe tbody tr th:only-of-type {\n",
              "        vertical-align: middle;\n",
              "    }\n",
              "\n",
              "    .dataframe tbody tr th {\n",
              "        vertical-align: top;\n",
              "    }\n",
              "\n",
              "    .dataframe thead th {\n",
              "        text-align: right;\n",
              "    }\n",
              "</style>\n",
              "<table border=\"1\" class=\"dataframe\">\n",
              "  <thead>\n",
              "    <tr style=\"text-align: right;\">\n",
              "      <th></th>\n",
              "      <th>pneumonia</th>\n",
              "      <th>白细胞计数</th>\n",
              "      <th>中性粒细胞比率</th>\n",
              "      <th>淋巴细胞比率</th>\n",
              "      <th>单核细胞比率</th>\n",
              "      <th>嗜酸粒细胞比率</th>\n",
              "      <th>嗜碱粒细胞比率</th>\n",
              "      <th>中性粒细胞计数</th>\n",
              "      <th>淋巴细胞计数</th>\n",
              "      <th>单核细胞计数</th>\n",
              "      <th>...</th>\n",
              "      <th>二氧化碳总量</th>\n",
              "      <th>氧饱和度</th>\n",
              "      <th>凝血酶原时间-INR值</th>\n",
              "      <th>纤维蛋白原</th>\n",
              "      <th>凝血酶原时间</th>\n",
              "      <th>活化部分凝血活酶时间</th>\n",
              "      <th>凝血酶时间</th>\n",
              "      <th>D-二聚体</th>\n",
              "      <th>纤维蛋白降解产物</th>\n",
              "      <th>白介素6</th>\n",
              "    </tr>\n",
              "  </thead>\n",
              "  <tbody>\n",
              "    <tr>\n",
              "      <th>0</th>\n",
              "      <td>1</td>\n",
              "      <td>1.048237</td>\n",
              "      <td>-0.761565</td>\n",
              "      <td>0.066310</td>\n",
              "      <td>3.815783</td>\n",
              "      <td>-0.206364</td>\n",
              "      <td>-0.990071</td>\n",
              "      <td>-0.004856</td>\n",
              "      <td>0.897447</td>\n",
              "      <td>4.845495</td>\n",
              "      <td>...</td>\n",
              "      <td>0.000000</td>\n",
              "      <td>3.246104e-15</td>\n",
              "      <td>1.191831</td>\n",
              "      <td>-1.103085</td>\n",
              "      <td>9.219479e-01</td>\n",
              "      <td>-1.437917e+00</td>\n",
              "      <td>-1.204609</td>\n",
              "      <td>0.836619</td>\n",
              "      <td>2.684020e-01</td>\n",
              "      <td>-1.933533e-01</td>\n",
              "    </tr>\n",
              "    <tr>\n",
              "      <th>1</th>\n",
              "      <td>0</td>\n",
              "      <td>-1.485031</td>\n",
              "      <td>-0.285387</td>\n",
              "      <td>0.434554</td>\n",
              "      <td>-0.459267</td>\n",
              "      <td>-0.246060</td>\n",
              "      <td>0.280581</td>\n",
              "      <td>-1.021209</td>\n",
              "      <td>-0.944041</td>\n",
              "      <td>-1.184726</td>\n",
              "      <td>...</td>\n",
              "      <td>0.000000</td>\n",
              "      <td>3.246104e-15</td>\n",
              "      <td>-0.678573</td>\n",
              "      <td>-1.862449</td>\n",
              "      <td>-8.930557e-01</td>\n",
              "      <td>-3.705185e-01</td>\n",
              "      <td>1.062409</td>\n",
              "      <td>-0.609340</td>\n",
              "      <td>-4.246412e-01</td>\n",
              "      <td>-3.445052e-17</td>\n",
              "    </tr>\n",
              "    <tr>\n",
              "      <th>2</th>\n",
              "      <td>1</td>\n",
              "      <td>3.418818</td>\n",
              "      <td>1.479573</td>\n",
              "      <td>-1.557309</td>\n",
              "      <td>0.208709</td>\n",
              "      <td>-0.523929</td>\n",
              "      <td>-0.566520</td>\n",
              "      <td>4.132724</td>\n",
              "      <td>-0.222547</td>\n",
              "      <td>2.999509</td>\n",
              "      <td>...</td>\n",
              "      <td>0.000000</td>\n",
              "      <td>3.246104e-15</td>\n",
              "      <td>-0.390818</td>\n",
              "      <td>1.971111</td>\n",
              "      <td>-5.300550e-01</td>\n",
              "      <td>1.409436e-01</td>\n",
              "      <td>1.425131</td>\n",
              "      <td>-0.324448</td>\n",
              "      <td>-2.151165e-01</td>\n",
              "      <td>-3.445052e-17</td>\n",
              "    </tr>\n",
              "    <tr>\n",
              "      <th>3</th>\n",
              "      <td>0</td>\n",
              "      <td>-0.137054</td>\n",
              "      <td>0.956814</td>\n",
              "      <td>-1.044000</td>\n",
              "      <td>0.395743</td>\n",
              "      <td>-0.563624</td>\n",
              "      <td>0.704132</td>\n",
              "      <td>0.340945</td>\n",
              "      <td>-0.713331</td>\n",
              "      <td>0.189508</td>\n",
              "      <td>...</td>\n",
              "      <td>0.594184</td>\n",
              "      <td>3.423401e-01</td>\n",
              "      <td>0.328568</td>\n",
              "      <td>-0.833634</td>\n",
              "      <td>7.494618e-02</td>\n",
              "      <td>-1.104355e+00</td>\n",
              "      <td>-1.023248</td>\n",
              "      <td>-0.195441</td>\n",
              "      <td>-3.762894e-01</td>\n",
              "      <td>-2.593411e-01</td>\n",
              "    </tr>\n",
              "    <tr>\n",
              "      <th>4</th>\n",
              "      <td>1</td>\n",
              "      <td>0.037254</td>\n",
              "      <td>-0.378553</td>\n",
              "      <td>0.546143</td>\n",
              "      <td>-1.528030</td>\n",
              "      <td>1.262371</td>\n",
              "      <td>0.280581</td>\n",
              "      <td>-0.230378</td>\n",
              "      <td>0.465390</td>\n",
              "      <td>-1.020638</td>\n",
              "      <td>...</td>\n",
              "      <td>-2.065492</td>\n",
              "      <td>5.707643e-01</td>\n",
              "      <td>0.760199</td>\n",
              "      <td>-0.894873</td>\n",
              "      <td>5.589471e-01</td>\n",
              "      <td>3.855558e-01</td>\n",
              "      <td>-1.023248</td>\n",
              "      <td>-0.555586</td>\n",
              "      <td>-3.762894e-01</td>\n",
              "      <td>-2.256926e-01</td>\n",
              "    </tr>\n",
              "    <tr>\n",
              "      <th>...</th>\n",
              "      <td>...</td>\n",
              "      <td>...</td>\n",
              "      <td>...</td>\n",
              "      <td>...</td>\n",
              "      <td>...</td>\n",
              "      <td>...</td>\n",
              "      <td>...</td>\n",
              "      <td>...</td>\n",
              "      <td>...</td>\n",
              "      <td>...</td>\n",
              "      <td>...</td>\n",
              "      <td>...</td>\n",
              "      <td>...</td>\n",
              "      <td>...</td>\n",
              "      <td>...</td>\n",
              "      <td>...</td>\n",
              "      <td>...</td>\n",
              "      <td>...</td>\n",
              "      <td>...</td>\n",
              "      <td>...</td>\n",
              "      <td>...</td>\n",
              "    </tr>\n",
              "    <tr>\n",
              "      <th>5617</th>\n",
              "      <td>0</td>\n",
              "      <td>0.167403</td>\n",
              "      <td>0.242548</td>\n",
              "      <td>-0.112232</td>\n",
              "      <td>-0.218796</td>\n",
              "      <td>-0.682711</td>\n",
              "      <td>-0.566520</td>\n",
              "      <td>0.193604</td>\n",
              "      <td>0.096253</td>\n",
              "      <td>0.004909</td>\n",
              "      <td>...</td>\n",
              "      <td>-0.403195</td>\n",
              "      <td>7.991886e-01</td>\n",
              "      <td>0.000000</td>\n",
              "      <td>0.000000</td>\n",
              "      <td>2.149396e-15</td>\n",
              "      <td>-7.900340e-16</td>\n",
              "      <td>0.000000</td>\n",
              "      <td>0.000000</td>\n",
              "      <td>7.157511e-17</td>\n",
              "      <td>-3.445052e-17</td>\n",
              "    </tr>\n",
              "    <tr>\n",
              "      <th>5618</th>\n",
              "      <td>1</td>\n",
              "      <td>0.729835</td>\n",
              "      <td>0.139031</td>\n",
              "      <td>-0.073176</td>\n",
              "      <td>-0.218796</td>\n",
              "      <td>-0.365146</td>\n",
              "      <td>1.551233</td>\n",
              "      <td>0.506328</td>\n",
              "      <td>0.524116</td>\n",
              "      <td>0.394618</td>\n",
              "      <td>...</td>\n",
              "      <td>-0.403195</td>\n",
              "      <td>3.423401e-01</td>\n",
              "      <td>0.000000</td>\n",
              "      <td>0.000000</td>\n",
              "      <td>2.149396e-15</td>\n",
              "      <td>-7.900340e-16</td>\n",
              "      <td>0.000000</td>\n",
              "      <td>0.000000</td>\n",
              "      <td>7.157511e-17</td>\n",
              "      <td>-3.445052e-17</td>\n",
              "    </tr>\n",
              "    <tr>\n",
              "      <th>5619</th>\n",
              "      <td>1</td>\n",
              "      <td>-0.069655</td>\n",
              "      <td>1.572738</td>\n",
              "      <td>-1.562888</td>\n",
              "      <td>-0.111920</td>\n",
              "      <td>-0.841493</td>\n",
              "      <td>0.704132</td>\n",
              "      <td>0.713808</td>\n",
              "      <td>-1.032130</td>\n",
              "      <td>-0.097645</td>\n",
              "      <td>...</td>\n",
              "      <td>-0.070735</td>\n",
              "      <td>5.707643e-01</td>\n",
              "      <td>0.000000</td>\n",
              "      <td>0.000000</td>\n",
              "      <td>2.149396e-15</td>\n",
              "      <td>-7.900340e-16</td>\n",
              "      <td>0.000000</td>\n",
              "      <td>0.000000</td>\n",
              "      <td>7.157511e-17</td>\n",
              "      <td>-3.445052e-17</td>\n",
              "    </tr>\n",
              "    <tr>\n",
              "      <th>5620</th>\n",
              "      <td>1</td>\n",
              "      <td>1.836106</td>\n",
              "      <td>-1.382665</td>\n",
              "      <td>1.422116</td>\n",
              "      <td>-0.165358</td>\n",
              "      <td>0.666938</td>\n",
              "      <td>0.704132</td>\n",
              "      <td>-0.272476</td>\n",
              "      <td>3.225525</td>\n",
              "      <td>1.215056</td>\n",
              "      <td>...</td>\n",
              "      <td>-1.400573</td>\n",
              "      <td>3.423401e-01</td>\n",
              "      <td>0.000000</td>\n",
              "      <td>0.000000</td>\n",
              "      <td>2.149396e-15</td>\n",
              "      <td>-7.900340e-16</td>\n",
              "      <td>0.000000</td>\n",
              "      <td>0.000000</td>\n",
              "      <td>7.157511e-17</td>\n",
              "      <td>-3.445052e-17</td>\n",
              "    </tr>\n",
              "    <tr>\n",
              "      <th>5621</th>\n",
              "      <td>1</td>\n",
              "      <td>-1.020211</td>\n",
              "      <td>0.004459</td>\n",
              "      <td>-0.151288</td>\n",
              "      <td>0.796529</td>\n",
              "      <td>-0.166669</td>\n",
              "      <td>0.280581</td>\n",
              "      <td>-0.684429</td>\n",
              "      <td>-0.746889</td>\n",
              "      <td>-0.446332</td>\n",
              "      <td>...</td>\n",
              "      <td>1.591563</td>\n",
              "      <td>1.027613e+00</td>\n",
              "      <td>0.000000</td>\n",
              "      <td>0.000000</td>\n",
              "      <td>2.149396e-15</td>\n",
              "      <td>-7.900340e-16</td>\n",
              "      <td>0.000000</td>\n",
              "      <td>0.000000</td>\n",
              "      <td>7.157511e-17</td>\n",
              "      <td>-3.445052e-17</td>\n",
              "    </tr>\n",
              "  </tbody>\n",
              "</table>\n",
              "<p>5446 rows × 71 columns</p>\n",
              "</div>\n",
              "    <div class=\"colab-df-buttons\">\n",
              "\n",
              "  <div class=\"colab-df-container\">\n",
              "    <button class=\"colab-df-convert\" onclick=\"convertToInteractive('df-552f4626-592c-481d-a0b3-f83c51631585')\"\n",
              "            title=\"Convert this dataframe to an interactive table.\"\n",
              "            style=\"display:none;\">\n",
              "\n",
              "  <svg xmlns=\"http://www.w3.org/2000/svg\" height=\"24px\" viewBox=\"0 -960 960 960\">\n",
              "    <path d=\"M120-120v-720h720v720H120Zm60-500h600v-160H180v160Zm220 220h160v-160H400v160Zm0 220h160v-160H400v160ZM180-400h160v-160H180v160Zm440 0h160v-160H620v160ZM180-180h160v-160H180v160Zm440 0h160v-160H620v160Z\"/>\n",
              "  </svg>\n",
              "    </button>\n",
              "\n",
              "  <style>\n",
              "    .colab-df-container {\n",
              "      display:flex;\n",
              "      gap: 12px;\n",
              "    }\n",
              "\n",
              "    .colab-df-convert {\n",
              "      background-color: #E8F0FE;\n",
              "      border: none;\n",
              "      border-radius: 50%;\n",
              "      cursor: pointer;\n",
              "      display: none;\n",
              "      fill: #1967D2;\n",
              "      height: 32px;\n",
              "      padding: 0 0 0 0;\n",
              "      width: 32px;\n",
              "    }\n",
              "\n",
              "    .colab-df-convert:hover {\n",
              "      background-color: #E2EBFA;\n",
              "      box-shadow: 0px 1px 2px rgba(60, 64, 67, 0.3), 0px 1px 3px 1px rgba(60, 64, 67, 0.15);\n",
              "      fill: #174EA6;\n",
              "    }\n",
              "\n",
              "    .colab-df-buttons div {\n",
              "      margin-bottom: 4px;\n",
              "    }\n",
              "\n",
              "    [theme=dark] .colab-df-convert {\n",
              "      background-color: #3B4455;\n",
              "      fill: #D2E3FC;\n",
              "    }\n",
              "\n",
              "    [theme=dark] .colab-df-convert:hover {\n",
              "      background-color: #434B5C;\n",
              "      box-shadow: 0px 1px 3px 1px rgba(0, 0, 0, 0.15);\n",
              "      filter: drop-shadow(0px 1px 2px rgba(0, 0, 0, 0.3));\n",
              "      fill: #FFFFFF;\n",
              "    }\n",
              "  </style>\n",
              "\n",
              "    <script>\n",
              "      const buttonEl =\n",
              "        document.querySelector('#df-552f4626-592c-481d-a0b3-f83c51631585 button.colab-df-convert');\n",
              "      buttonEl.style.display =\n",
              "        google.colab.kernel.accessAllowed ? 'block' : 'none';\n",
              "\n",
              "      async function convertToInteractive(key) {\n",
              "        const element = document.querySelector('#df-552f4626-592c-481d-a0b3-f83c51631585');\n",
              "        const dataTable =\n",
              "          await google.colab.kernel.invokeFunction('convertToInteractive',\n",
              "                                                    [key], {});\n",
              "        if (!dataTable) return;\n",
              "\n",
              "        const docLinkHtml = 'Like what you see? Visit the ' +\n",
              "          '<a target=\"_blank\" href=https://colab.research.google.com/notebooks/data_table.ipynb>data table notebook</a>'\n",
              "          + ' to learn more about interactive tables.';\n",
              "        element.innerHTML = '';\n",
              "        dataTable['output_type'] = 'display_data';\n",
              "        await google.colab.output.renderOutput(dataTable, element);\n",
              "        const docLink = document.createElement('div');\n",
              "        docLink.innerHTML = docLinkHtml;\n",
              "        element.appendChild(docLink);\n",
              "      }\n",
              "    </script>\n",
              "  </div>\n",
              "\n",
              "\n",
              "<div id=\"df-7ba1cc40-a556-4d24-8eae-8443b88c6bca\">\n",
              "  <button class=\"colab-df-quickchart\" onclick=\"quickchart('df-7ba1cc40-a556-4d24-8eae-8443b88c6bca')\"\n",
              "            title=\"Suggest charts\"\n",
              "            style=\"display:none;\">\n",
              "\n",
              "<svg xmlns=\"http://www.w3.org/2000/svg\" height=\"24px\"viewBox=\"0 0 24 24\"\n",
              "     width=\"24px\">\n",
              "    <g>\n",
              "        <path d=\"M19 3H5c-1.1 0-2 .9-2 2v14c0 1.1.9 2 2 2h14c1.1 0 2-.9 2-2V5c0-1.1-.9-2-2-2zM9 17H7v-7h2v7zm4 0h-2V7h2v10zm4 0h-2v-4h2v4z\"/>\n",
              "    </g>\n",
              "</svg>\n",
              "  </button>\n",
              "\n",
              "<style>\n",
              "  .colab-df-quickchart {\n",
              "      --bg-color: #E8F0FE;\n",
              "      --fill-color: #1967D2;\n",
              "      --hover-bg-color: #E2EBFA;\n",
              "      --hover-fill-color: #174EA6;\n",
              "      --disabled-fill-color: #AAA;\n",
              "      --disabled-bg-color: #DDD;\n",
              "  }\n",
              "\n",
              "  [theme=dark] .colab-df-quickchart {\n",
              "      --bg-color: #3B4455;\n",
              "      --fill-color: #D2E3FC;\n",
              "      --hover-bg-color: #434B5C;\n",
              "      --hover-fill-color: #FFFFFF;\n",
              "      --disabled-bg-color: #3B4455;\n",
              "      --disabled-fill-color: #666;\n",
              "  }\n",
              "\n",
              "  .colab-df-quickchart {\n",
              "    background-color: var(--bg-color);\n",
              "    border: none;\n",
              "    border-radius: 50%;\n",
              "    cursor: pointer;\n",
              "    display: none;\n",
              "    fill: var(--fill-color);\n",
              "    height: 32px;\n",
              "    padding: 0;\n",
              "    width: 32px;\n",
              "  }\n",
              "\n",
              "  .colab-df-quickchart:hover {\n",
              "    background-color: var(--hover-bg-color);\n",
              "    box-shadow: 0 1px 2px rgba(60, 64, 67, 0.3), 0 1px 3px 1px rgba(60, 64, 67, 0.15);\n",
              "    fill: var(--button-hover-fill-color);\n",
              "  }\n",
              "\n",
              "  .colab-df-quickchart-complete:disabled,\n",
              "  .colab-df-quickchart-complete:disabled:hover {\n",
              "    background-color: var(--disabled-bg-color);\n",
              "    fill: var(--disabled-fill-color);\n",
              "    box-shadow: none;\n",
              "  }\n",
              "\n",
              "  .colab-df-spinner {\n",
              "    border: 2px solid var(--fill-color);\n",
              "    border-color: transparent;\n",
              "    border-bottom-color: var(--fill-color);\n",
              "    animation:\n",
              "      spin 1s steps(1) infinite;\n",
              "  }\n",
              "\n",
              "  @keyframes spin {\n",
              "    0% {\n",
              "      border-color: transparent;\n",
              "      border-bottom-color: var(--fill-color);\n",
              "      border-left-color: var(--fill-color);\n",
              "    }\n",
              "    20% {\n",
              "      border-color: transparent;\n",
              "      border-left-color: var(--fill-color);\n",
              "      border-top-color: var(--fill-color);\n",
              "    }\n",
              "    30% {\n",
              "      border-color: transparent;\n",
              "      border-left-color: var(--fill-color);\n",
              "      border-top-color: var(--fill-color);\n",
              "      border-right-color: var(--fill-color);\n",
              "    }\n",
              "    40% {\n",
              "      border-color: transparent;\n",
              "      border-right-color: var(--fill-color);\n",
              "      border-top-color: var(--fill-color);\n",
              "    }\n",
              "    60% {\n",
              "      border-color: transparent;\n",
              "      border-right-color: var(--fill-color);\n",
              "    }\n",
              "    80% {\n",
              "      border-color: transparent;\n",
              "      border-right-color: var(--fill-color);\n",
              "      border-bottom-color: var(--fill-color);\n",
              "    }\n",
              "    90% {\n",
              "      border-color: transparent;\n",
              "      border-bottom-color: var(--fill-color);\n",
              "    }\n",
              "  }\n",
              "</style>\n",
              "\n",
              "  <script>\n",
              "    async function quickchart(key) {\n",
              "      const quickchartButtonEl =\n",
              "        document.querySelector('#' + key + ' button');\n",
              "      quickchartButtonEl.disabled = true;  // To prevent multiple clicks.\n",
              "      quickchartButtonEl.classList.add('colab-df-spinner');\n",
              "      try {\n",
              "        const charts = await google.colab.kernel.invokeFunction(\n",
              "            'suggestCharts', [key], {});\n",
              "      } catch (error) {\n",
              "        console.error('Error during call to suggestCharts:', error);\n",
              "      }\n",
              "      quickchartButtonEl.classList.remove('colab-df-spinner');\n",
              "      quickchartButtonEl.classList.add('colab-df-quickchart-complete');\n",
              "    }\n",
              "    (() => {\n",
              "      let quickchartButtonEl =\n",
              "        document.querySelector('#df-7ba1cc40-a556-4d24-8eae-8443b88c6bca button');\n",
              "      quickchartButtonEl.style.display =\n",
              "        google.colab.kernel.accessAllowed ? 'block' : 'none';\n",
              "    })();\n",
              "  </script>\n",
              "</div>\n",
              "\n",
              "  <div id=\"id_a0916495-4e8b-44f1-9847-e7acf2cb87ed\">\n",
              "    <style>\n",
              "      .colab-df-generate {\n",
              "        background-color: #E8F0FE;\n",
              "        border: none;\n",
              "        border-radius: 50%;\n",
              "        cursor: pointer;\n",
              "        display: none;\n",
              "        fill: #1967D2;\n",
              "        height: 32px;\n",
              "        padding: 0 0 0 0;\n",
              "        width: 32px;\n",
              "      }\n",
              "\n",
              "      .colab-df-generate:hover {\n",
              "        background-color: #E2EBFA;\n",
              "        box-shadow: 0px 1px 2px rgba(60, 64, 67, 0.3), 0px 1px 3px 1px rgba(60, 64, 67, 0.15);\n",
              "        fill: #174EA6;\n",
              "      }\n",
              "\n",
              "      [theme=dark] .colab-df-generate {\n",
              "        background-color: #3B4455;\n",
              "        fill: #D2E3FC;\n",
              "      }\n",
              "\n",
              "      [theme=dark] .colab-df-generate:hover {\n",
              "        background-color: #434B5C;\n",
              "        box-shadow: 0px 1px 3px 1px rgba(0, 0, 0, 0.15);\n",
              "        filter: drop-shadow(0px 1px 2px rgba(0, 0, 0, 0.3));\n",
              "        fill: #FFFFFF;\n",
              "      }\n",
              "    </style>\n",
              "    <button class=\"colab-df-generate\" onclick=\"generateWithVariable('df')\"\n",
              "            title=\"Generate code using this dataframe.\"\n",
              "            style=\"display:none;\">\n",
              "\n",
              "  <svg xmlns=\"http://www.w3.org/2000/svg\" height=\"24px\"viewBox=\"0 0 24 24\"\n",
              "       width=\"24px\">\n",
              "    <path d=\"M7,19H8.4L18.45,9,17,7.55,7,17.6ZM5,21V16.75L18.45,3.32a2,2,0,0,1,2.83,0l1.4,1.43a1.91,1.91,0,0,1,.58,1.4,1.91,1.91,0,0,1-.58,1.4L9.25,21ZM18.45,9,17,7.55Zm-12,3A5.31,5.31,0,0,0,4.9,8.1,5.31,5.31,0,0,0,1,6.5,5.31,5.31,0,0,0,4.9,4.9,5.31,5.31,0,0,0,6.5,1,5.31,5.31,0,0,0,8.1,4.9,5.31,5.31,0,0,0,12,6.5,5.46,5.46,0,0,0,6.5,12Z\"/>\n",
              "  </svg>\n",
              "    </button>\n",
              "    <script>\n",
              "      (() => {\n",
              "      const buttonEl =\n",
              "        document.querySelector('#id_a0916495-4e8b-44f1-9847-e7acf2cb87ed button.colab-df-generate');\n",
              "      buttonEl.style.display =\n",
              "        google.colab.kernel.accessAllowed ? 'block' : 'none';\n",
              "\n",
              "      buttonEl.onclick = () => {\n",
              "        google.colab.notebook.generateWithVariable('df');\n",
              "      }\n",
              "      })();\n",
              "    </script>\n",
              "  </div>\n",
              "\n",
              "    </div>\n",
              "  </div>\n"
            ],
            "application/vnd.google.colaboratory.intrinsic+json": {
              "type": "dataframe",
              "variable_name": "df"
            }
          },
          "metadata": {},
          "execution_count": 19
        }
      ]
    },
    {
      "cell_type": "markdown",
      "source": [
        "## The Configuration of the training and the Validation Cohort"
      ],
      "metadata": {
        "id": "kYCCgwPgYICj"
      }
    },
    {
      "cell_type": "markdown",
      "source": [
        "Split the Dataframe into training and validation cohort."
      ],
      "metadata": {
        "id": "I42SgXciZG2M"
      }
    },
    {
      "cell_type": "code",
      "source": [
        "from sklearn.model_selection import train_test_split\n",
        "\n",
        "# Split the DataFrame into training (80%) and validation (20%) cohorts\n",
        "df_training, df_validation = train_test_split(df, test_size=0.2, random_state=42)\n",
        "\n",
        "# Now, train_df is your training cohort DataFrame, and valid_df is your validation cohort DataFrame."
      ],
      "metadata": {
        "id": "cqQ0hWMLZGXr"
      },
      "execution_count": 20,
      "outputs": []
    },
    {
      "cell_type": "markdown",
      "source": [
        "Fetch the X (features) and y (labels) for the downstream pipeline."
      ],
      "metadata": {
        "id": "C7FEz5QRYkTL"
      }
    },
    {
      "cell_type": "code",
      "source": [
        "# Separate features and labels\n",
        "X = df_training.iloc[:, 1:]  # Input All Features\n",
        "y = df_training.iloc[:, 0]   # Labels\n",
        "# 'y' is a pandas Series containing binary class labels\n",
        "# Corrected and improved code for oversampling and downsampling\n",
        "\n",
        "# Count the occurrences of each class label\n",
        "counts = y.value_counts()\n",
        "counts_positive = counts.get(1, 0)\n",
        "counts_negative = counts.get(0, 0)\n",
        "\n",
        "# Calculate the oversampling parameter (ratio of class labels)\n",
        "oversampling_parameter = counts_positive / counts_negative\n",
        "\n",
        "# Check if oversampling is needed\n",
        "if oversampling_parameter > 1:\n",
        "    # Print the recommended oversampling ratio (rounded to the nearest integer)\n",
        "    recommended_oversampling = int(round(oversampling_parameter))\n",
        "    print(f\"The recommended oversampling ratio is: {recommended_oversampling}\")\n",
        "else:\n",
        "    # Calculate the downsampling parameter (rounded to the nearest integer)\n",
        "    downsampling_parameter = int(round(counts_negative / counts_positive))\n",
        "    print(f\"The recommended downsampling ratio is: {downsampling_parameter}\")\n",
        "print(\"Annotation: the need for oversampling represents the positive is more than the negative greately, and vice versa.\")"
      ],
      "metadata": {
        "id": "hmNSQFvKYhiz",
        "colab": {
          "base_uri": "https://localhost:8080/"
        },
        "outputId": "05e23a0f-fc3f-4c87-9eb6-7b6a986122b6"
      },
      "execution_count": 21,
      "outputs": [
        {
          "output_type": "stream",
          "name": "stdout",
          "text": [
            "The recommended oversampling ratio is: 3\n",
            "Annotation: the need for oversampling represents the positive is more than the negative greately, and vice versa.\n"
          ]
        }
      ]
    },
    {
      "cell_type": "markdown",
      "source": [
        "The validation cohort would finally be applied for the fitted model."
      ],
      "metadata": {
        "id": "vZxDYr-DczX5"
      }
    },
    {
      "cell_type": "code",
      "source": [
        "X_val = df_validation.iloc[:, 1:]  # Input All Features\n",
        "y_val = df_validation.iloc[:, 0]   # Labels"
      ],
      "metadata": {
        "id": "XEggBg5JYHmU"
      },
      "execution_count": 7,
      "outputs": []
    },
    {
      "cell_type": "markdown",
      "source": [
        "### Make the Data Structure balanced (Optional)"
      ],
      "metadata": {
        "id": "kFIKIl8KE0Er"
      }
    },
    {
      "cell_type": "markdown",
      "source": [
        "**1. Oversampling**"
      ],
      "metadata": {
        "id": "UwcyuKzZRGRz"
      }
    },
    {
      "cell_type": "code",
      "source": [
        "from imblearn.over_sampling import SMOTE\n",
        "\n",
        "# Assuming X and y are your features and target variable\n",
        "sm = SMOTE(random_state=42)\n",
        "X_res, y_res = sm.fit_resample(X, y)\n",
        "\n",
        "# Count the occurrences of each class label after resampling\n",
        "counts_res = y_res.value_counts()\n",
        "counts_positive_res = counts_res.get(1, 0)\n",
        "counts_negative_res = counts_res.get(0, 0)\n",
        "\n",
        "# Calculate the oversampling parameter (ratio of class labels) after resampling\n",
        "oversampling_parameter_res = counts_positive_res / counts_negative_res\n",
        "\n",
        "# Print the raw and resampled counts and ratios\n",
        "print(f\"The raw counts of the positive labels are {counts_positive}, while for the negative labels are {counts_negative}, and the ratio is {oversampling_parameter:.2f}.\")\n",
        "print(f\"The resampled counts of the positive labels are {counts_positive_res}, while for the negative labels are {counts_negative_res}, so the ratio has been altered to {oversampling_parameter_res:.2f}.\")\n"
      ],
      "metadata": {
        "colab": {
          "base_uri": "https://localhost:8080/",
          "height": 571
        },
        "id": "HPbnXsoIXGmM",
        "outputId": "8f248a4e-7a6f-4a4a-a1d2-ff68f01485d6"
      },
      "execution_count": 22,
      "outputs": [
        {
          "output_type": "error",
          "ename": "ImportError",
          "evalue": "cannot import name 'if_delegate_has_method' from 'sklearn.utils.metaestimators' (/usr/local/lib/python3.10/dist-packages/sklearn/utils/metaestimators.py)",
          "traceback": [
            "\u001b[0;31m---------------------------------------------------------------------------\u001b[0m",
            "\u001b[0;31mImportError\u001b[0m                               Traceback (most recent call last)",
            "\u001b[0;32m<ipython-input-22-972328704974>\u001b[0m in \u001b[0;36m<cell line: 1>\u001b[0;34m()\u001b[0m\n\u001b[0;32m----> 1\u001b[0;31m \u001b[0;32mfrom\u001b[0m \u001b[0mimblearn\u001b[0m\u001b[0;34m.\u001b[0m\u001b[0mover_sampling\u001b[0m \u001b[0;32mimport\u001b[0m \u001b[0mSMOTE\u001b[0m\u001b[0;34m\u001b[0m\u001b[0;34m\u001b[0m\u001b[0m\n\u001b[0m\u001b[1;32m      2\u001b[0m \u001b[0;34m\u001b[0m\u001b[0m\n\u001b[1;32m      3\u001b[0m \u001b[0;31m# Assuming X and y are your features and target variable\u001b[0m\u001b[0;34m\u001b[0m\u001b[0;34m\u001b[0m\u001b[0m\n\u001b[1;32m      4\u001b[0m \u001b[0msm\u001b[0m \u001b[0;34m=\u001b[0m \u001b[0mSMOTE\u001b[0m\u001b[0;34m(\u001b[0m\u001b[0mrandom_state\u001b[0m\u001b[0;34m=\u001b[0m\u001b[0;36m42\u001b[0m\u001b[0;34m)\u001b[0m\u001b[0;34m\u001b[0m\u001b[0;34m\u001b[0m\u001b[0m\n\u001b[1;32m      5\u001b[0m \u001b[0mX_res\u001b[0m\u001b[0;34m,\u001b[0m \u001b[0my_res\u001b[0m \u001b[0;34m=\u001b[0m \u001b[0msm\u001b[0m\u001b[0;34m.\u001b[0m\u001b[0mfit_resample\u001b[0m\u001b[0;34m(\u001b[0m\u001b[0mX\u001b[0m\u001b[0;34m,\u001b[0m \u001b[0my\u001b[0m\u001b[0;34m)\u001b[0m\u001b[0;34m\u001b[0m\u001b[0;34m\u001b[0m\u001b[0m\n",
            "\u001b[0;32m/usr/local/lib/python3.10/dist-packages/imblearn/__init__.py\u001b[0m in \u001b[0;36m<module>\u001b[0;34m\u001b[0m\n\u001b[1;32m     51\u001b[0m \u001b[0;32melse\u001b[0m\u001b[0;34m:\u001b[0m\u001b[0;34m\u001b[0m\u001b[0;34m\u001b[0m\u001b[0m\n\u001b[1;32m     52\u001b[0m     \u001b[0;32mfrom\u001b[0m \u001b[0;34m.\u001b[0m \u001b[0;32mimport\u001b[0m \u001b[0mcombine\u001b[0m\u001b[0;34m\u001b[0m\u001b[0;34m\u001b[0m\u001b[0m\n\u001b[0;32m---> 53\u001b[0;31m     \u001b[0;32mfrom\u001b[0m \u001b[0;34m.\u001b[0m \u001b[0;32mimport\u001b[0m \u001b[0mensemble\u001b[0m\u001b[0;34m\u001b[0m\u001b[0;34m\u001b[0m\u001b[0m\n\u001b[0m\u001b[1;32m     54\u001b[0m     \u001b[0;32mfrom\u001b[0m \u001b[0;34m.\u001b[0m \u001b[0;32mimport\u001b[0m \u001b[0mexceptions\u001b[0m\u001b[0;34m\u001b[0m\u001b[0;34m\u001b[0m\u001b[0m\n\u001b[1;32m     55\u001b[0m     \u001b[0;32mfrom\u001b[0m \u001b[0;34m.\u001b[0m \u001b[0;32mimport\u001b[0m \u001b[0mmetrics\u001b[0m\u001b[0;34m\u001b[0m\u001b[0;34m\u001b[0m\u001b[0m\n",
            "\u001b[0;32m/usr/local/lib/python3.10/dist-packages/imblearn/ensemble/__init__.py\u001b[0m in \u001b[0;36m<module>\u001b[0;34m\u001b[0m\n\u001b[1;32m      4\u001b[0m \"\"\"\n\u001b[1;32m      5\u001b[0m \u001b[0;34m\u001b[0m\u001b[0m\n\u001b[0;32m----> 6\u001b[0;31m \u001b[0;32mfrom\u001b[0m \u001b[0;34m.\u001b[0m\u001b[0m_easy_ensemble\u001b[0m \u001b[0;32mimport\u001b[0m \u001b[0mEasyEnsembleClassifier\u001b[0m\u001b[0;34m\u001b[0m\u001b[0;34m\u001b[0m\u001b[0m\n\u001b[0m\u001b[1;32m      7\u001b[0m \u001b[0;32mfrom\u001b[0m \u001b[0;34m.\u001b[0m\u001b[0m_bagging\u001b[0m \u001b[0;32mimport\u001b[0m \u001b[0mBalancedBaggingClassifier\u001b[0m\u001b[0;34m\u001b[0m\u001b[0;34m\u001b[0m\u001b[0m\n\u001b[1;32m      8\u001b[0m \u001b[0;32mfrom\u001b[0m \u001b[0;34m.\u001b[0m\u001b[0m_forest\u001b[0m \u001b[0;32mimport\u001b[0m \u001b[0mBalancedRandomForestClassifier\u001b[0m\u001b[0;34m\u001b[0m\u001b[0;34m\u001b[0m\u001b[0m\n",
            "\u001b[0;32m/usr/local/lib/python3.10/dist-packages/imblearn/ensemble/_easy_ensemble.py\u001b[0m in \u001b[0;36m<module>\u001b[0;34m\u001b[0m\n\u001b[1;32m     19\u001b[0m \u001b[0;32mfrom\u001b[0m \u001b[0;34m.\u001b[0m\u001b[0;34m.\u001b[0m\u001b[0mutils\u001b[0m\u001b[0;34m.\u001b[0m\u001b[0m_docstring\u001b[0m \u001b[0;32mimport\u001b[0m \u001b[0m_random_state_docstring\u001b[0m\u001b[0;34m\u001b[0m\u001b[0;34m\u001b[0m\u001b[0m\n\u001b[1;32m     20\u001b[0m \u001b[0;32mfrom\u001b[0m \u001b[0;34m.\u001b[0m\u001b[0;34m.\u001b[0m\u001b[0mutils\u001b[0m\u001b[0;34m.\u001b[0m\u001b[0m_validation\u001b[0m \u001b[0;32mimport\u001b[0m \u001b[0m_deprecate_positional_args\u001b[0m\u001b[0;34m\u001b[0m\u001b[0;34m\u001b[0m\u001b[0m\n\u001b[0;32m---> 21\u001b[0;31m \u001b[0;32mfrom\u001b[0m \u001b[0;34m.\u001b[0m\u001b[0;34m.\u001b[0m\u001b[0mpipeline\u001b[0m \u001b[0;32mimport\u001b[0m \u001b[0mPipeline\u001b[0m\u001b[0;34m\u001b[0m\u001b[0;34m\u001b[0m\u001b[0m\n\u001b[0m\u001b[1;32m     22\u001b[0m \u001b[0;34m\u001b[0m\u001b[0m\n\u001b[1;32m     23\u001b[0m \u001b[0mMAX_INT\u001b[0m \u001b[0;34m=\u001b[0m \u001b[0mnp\u001b[0m\u001b[0;34m.\u001b[0m\u001b[0miinfo\u001b[0m\u001b[0;34m(\u001b[0m\u001b[0mnp\u001b[0m\u001b[0;34m.\u001b[0m\u001b[0mint32\u001b[0m\u001b[0;34m)\u001b[0m\u001b[0;34m.\u001b[0m\u001b[0mmax\u001b[0m\u001b[0;34m\u001b[0m\u001b[0;34m\u001b[0m\u001b[0m\n",
            "\u001b[0;32m/usr/local/lib/python3.10/dist-packages/imblearn/pipeline.py\u001b[0m in \u001b[0;36m<module>\u001b[0;34m\u001b[0m\n\u001b[1;32m     16\u001b[0m \u001b[0;32mfrom\u001b[0m \u001b[0msklearn\u001b[0m\u001b[0;34m.\u001b[0m\u001b[0mbase\u001b[0m \u001b[0;32mimport\u001b[0m \u001b[0mclone\u001b[0m\u001b[0;34m\u001b[0m\u001b[0;34m\u001b[0m\u001b[0m\n\u001b[1;32m     17\u001b[0m \u001b[0;32mfrom\u001b[0m \u001b[0msklearn\u001b[0m\u001b[0;34m.\u001b[0m\u001b[0mutils\u001b[0m \u001b[0;32mimport\u001b[0m \u001b[0m_print_elapsed_time\u001b[0m\u001b[0;34m\u001b[0m\u001b[0;34m\u001b[0m\u001b[0m\n\u001b[0;32m---> 18\u001b[0;31m \u001b[0;32mfrom\u001b[0m \u001b[0msklearn\u001b[0m\u001b[0;34m.\u001b[0m\u001b[0mutils\u001b[0m\u001b[0;34m.\u001b[0m\u001b[0mmetaestimators\u001b[0m \u001b[0;32mimport\u001b[0m \u001b[0mif_delegate_has_method\u001b[0m\u001b[0;34m\u001b[0m\u001b[0;34m\u001b[0m\u001b[0m\n\u001b[0m\u001b[1;32m     19\u001b[0m \u001b[0;32mfrom\u001b[0m \u001b[0msklearn\u001b[0m\u001b[0;34m.\u001b[0m\u001b[0mutils\u001b[0m\u001b[0;34m.\u001b[0m\u001b[0mvalidation\u001b[0m \u001b[0;32mimport\u001b[0m \u001b[0mcheck_memory\u001b[0m\u001b[0;34m\u001b[0m\u001b[0;34m\u001b[0m\u001b[0m\n\u001b[1;32m     20\u001b[0m \u001b[0;34m\u001b[0m\u001b[0m\n",
            "\u001b[0;31mImportError\u001b[0m: cannot import name 'if_delegate_has_method' from 'sklearn.utils.metaestimators' (/usr/local/lib/python3.10/dist-packages/sklearn/utils/metaestimators.py)",
            "",
            "\u001b[0;31m---------------------------------------------------------------------------\u001b[0;32m\nNOTE: If your import is failing due to a missing package, you can\nmanually install dependencies using either !pip or !apt.\n\nTo view examples of installing some common dependencies, click the\n\"Open Examples\" button below.\n\u001b[0;31m---------------------------------------------------------------------------\u001b[0m\n"
          ],
          "errorDetails": {
            "actions": [
              {
                "action": "open_url",
                "actionText": "Open Examples",
                "url": "/notebooks/snippets/importing_libraries.ipynb"
              }
            ]
          }
        }
      ]
    },
    {
      "cell_type": "markdown",
      "source": [
        "**2. Downsampling**"
      ],
      "metadata": {
        "id": "0baau70aRI2T"
      }
    },
    {
      "cell_type": "code",
      "source": [
        "from imblearn.under_sampling import RandomUnderSampler\n",
        "\n",
        "# Assuming X and y are your features and target variable\n",
        "rus = RandomUnderSampler(random_state=42)\n",
        "X_res, y_res = rus.fit_resample(X, y)\n",
        "\n",
        "# Count the occurrences of each class label after resampling\n",
        "counts_res = y_res.value_counts()\n",
        "counts_positive_res = counts_res.get(1, 0)\n",
        "counts_negative_res = counts_res.get(0, 0)\n",
        "\n",
        "# Calculate the oversampling parameter (ratio of class labels) after resampling\n",
        "oversampling_parameter_res = counts_positive_res / counts_negative_res\n",
        "\n",
        "# Print the raw and resampled counts and ratios\n",
        "print(f\"The raw counts of the positive labels are {counts_positive}, while for the negative labels are {counts_negative}, and the ratio is {oversampling_parameter:.2f}.\")\n",
        "print(f\"The resampled counts of the positive labels are {counts_positive_res}, while for the negative labels are {counts_negative_res}, so the ratio has been altered to {oversampling_parameter_res:.2f}.\")\n"
      ],
      "metadata": {
        "colab": {
          "base_uri": "https://localhost:8080/",
          "height": 571
        },
        "id": "9OpYXDS0RErc",
        "outputId": "c0c01daf-a9a4-4ad2-cfd0-ca251309ca52"
      },
      "execution_count": 9,
      "outputs": [
        {
          "output_type": "error",
          "ename": "ImportError",
          "evalue": "cannot import name '_MissingValues' from 'sklearn.utils._param_validation' (/usr/local/lib/python3.10/dist-packages/sklearn/utils/_param_validation.py)",
          "traceback": [
            "\u001b[0;31m---------------------------------------------------------------------------\u001b[0m",
            "\u001b[0;31mImportError\u001b[0m                               Traceback (most recent call last)",
            "\u001b[0;32m<ipython-input-9-d1d6c8c5401b>\u001b[0m in \u001b[0;36m<cell line: 1>\u001b[0;34m()\u001b[0m\n\u001b[0;32m----> 1\u001b[0;31m \u001b[0;32mfrom\u001b[0m \u001b[0mimblearn\u001b[0m\u001b[0;34m.\u001b[0m\u001b[0munder_sampling\u001b[0m \u001b[0;32mimport\u001b[0m \u001b[0mRandomUnderSampler\u001b[0m\u001b[0;34m\u001b[0m\u001b[0;34m\u001b[0m\u001b[0m\n\u001b[0m\u001b[1;32m      2\u001b[0m \u001b[0;34m\u001b[0m\u001b[0m\n\u001b[1;32m      3\u001b[0m \u001b[0;31m# Assuming X and y are your features and target variable\u001b[0m\u001b[0;34m\u001b[0m\u001b[0;34m\u001b[0m\u001b[0m\n\u001b[1;32m      4\u001b[0m \u001b[0mrus\u001b[0m \u001b[0;34m=\u001b[0m \u001b[0mRandomUnderSampler\u001b[0m\u001b[0;34m(\u001b[0m\u001b[0mrandom_state\u001b[0m\u001b[0;34m=\u001b[0m\u001b[0;36m42\u001b[0m\u001b[0;34m)\u001b[0m\u001b[0;34m\u001b[0m\u001b[0;34m\u001b[0m\u001b[0m\n\u001b[1;32m      5\u001b[0m \u001b[0mX_res\u001b[0m\u001b[0;34m,\u001b[0m \u001b[0my_res\u001b[0m \u001b[0;34m=\u001b[0m \u001b[0mrus\u001b[0m\u001b[0;34m.\u001b[0m\u001b[0mfit_resample\u001b[0m\u001b[0;34m(\u001b[0m\u001b[0mX\u001b[0m\u001b[0;34m,\u001b[0m \u001b[0my\u001b[0m\u001b[0;34m)\u001b[0m\u001b[0;34m\u001b[0m\u001b[0;34m\u001b[0m\u001b[0m\n",
            "\u001b[0;32m/usr/local/lib/python3.10/dist-packages/imblearn/__init__.py\u001b[0m in \u001b[0;36m<module>\u001b[0;34m\u001b[0m\n\u001b[1;32m     50\u001b[0m     \u001b[0;31m# process, as it may not be compiled yet\u001b[0m\u001b[0;34m\u001b[0m\u001b[0;34m\u001b[0m\u001b[0m\n\u001b[1;32m     51\u001b[0m \u001b[0;32melse\u001b[0m\u001b[0;34m:\u001b[0m\u001b[0;34m\u001b[0m\u001b[0;34m\u001b[0m\u001b[0m\n\u001b[0;32m---> 52\u001b[0;31m     from . import (\n\u001b[0m\u001b[1;32m     53\u001b[0m         \u001b[0mcombine\u001b[0m\u001b[0;34m,\u001b[0m\u001b[0;34m\u001b[0m\u001b[0;34m\u001b[0m\u001b[0m\n\u001b[1;32m     54\u001b[0m         \u001b[0mensemble\u001b[0m\u001b[0;34m,\u001b[0m\u001b[0;34m\u001b[0m\u001b[0;34m\u001b[0m\u001b[0m\n",
            "\u001b[0;32m/usr/local/lib/python3.10/dist-packages/imblearn/combine/__init__.py\u001b[0m in \u001b[0;36m<module>\u001b[0;34m\u001b[0m\n\u001b[1;32m      3\u001b[0m \"\"\"\n\u001b[1;32m      4\u001b[0m \u001b[0;34m\u001b[0m\u001b[0m\n\u001b[0;32m----> 5\u001b[0;31m \u001b[0;32mfrom\u001b[0m \u001b[0;34m.\u001b[0m\u001b[0m_smote_enn\u001b[0m \u001b[0;32mimport\u001b[0m \u001b[0mSMOTEENN\u001b[0m\u001b[0;34m\u001b[0m\u001b[0;34m\u001b[0m\u001b[0m\n\u001b[0m\u001b[1;32m      6\u001b[0m \u001b[0;32mfrom\u001b[0m \u001b[0;34m.\u001b[0m\u001b[0m_smote_tomek\u001b[0m \u001b[0;32mimport\u001b[0m \u001b[0mSMOTETomek\u001b[0m\u001b[0;34m\u001b[0m\u001b[0;34m\u001b[0m\u001b[0m\n\u001b[1;32m      7\u001b[0m \u001b[0;34m\u001b[0m\u001b[0m\n",
            "\u001b[0;32m/usr/local/lib/python3.10/dist-packages/imblearn/combine/_smote_enn.py\u001b[0m in \u001b[0;36m<module>\u001b[0;34m\u001b[0m\n\u001b[1;32m     10\u001b[0m \u001b[0;32mfrom\u001b[0m \u001b[0msklearn\u001b[0m\u001b[0;34m.\u001b[0m\u001b[0mutils\u001b[0m \u001b[0;32mimport\u001b[0m \u001b[0mcheck_X_y\u001b[0m\u001b[0;34m\u001b[0m\u001b[0;34m\u001b[0m\u001b[0m\n\u001b[1;32m     11\u001b[0m \u001b[0;34m\u001b[0m\u001b[0m\n\u001b[0;32m---> 12\u001b[0;31m \u001b[0;32mfrom\u001b[0m \u001b[0;34m.\u001b[0m\u001b[0;34m.\u001b[0m\u001b[0mbase\u001b[0m \u001b[0;32mimport\u001b[0m \u001b[0mBaseSampler\u001b[0m\u001b[0;34m\u001b[0m\u001b[0;34m\u001b[0m\u001b[0m\n\u001b[0m\u001b[1;32m     13\u001b[0m \u001b[0;32mfrom\u001b[0m \u001b[0;34m.\u001b[0m\u001b[0;34m.\u001b[0m\u001b[0mover_sampling\u001b[0m \u001b[0;32mimport\u001b[0m \u001b[0mSMOTE\u001b[0m\u001b[0;34m\u001b[0m\u001b[0;34m\u001b[0m\u001b[0m\n\u001b[1;32m     14\u001b[0m \u001b[0;32mfrom\u001b[0m \u001b[0;34m.\u001b[0m\u001b[0;34m.\u001b[0m\u001b[0mover_sampling\u001b[0m\u001b[0;34m.\u001b[0m\u001b[0mbase\u001b[0m \u001b[0;32mimport\u001b[0m \u001b[0mBaseOverSampler\u001b[0m\u001b[0;34m\u001b[0m\u001b[0;34m\u001b[0m\u001b[0m\n",
            "\u001b[0;32m/usr/local/lib/python3.10/dist-packages/imblearn/base.py\u001b[0m in \u001b[0;36m<module>\u001b[0;34m\u001b[0m\n\u001b[1;32m     19\u001b[0m \u001b[0;34m\u001b[0m\u001b[0m\n\u001b[1;32m     20\u001b[0m \u001b[0;32mfrom\u001b[0m \u001b[0;34m.\u001b[0m\u001b[0mutils\u001b[0m \u001b[0;32mimport\u001b[0m \u001b[0mcheck_sampling_strategy\u001b[0m\u001b[0;34m,\u001b[0m \u001b[0mcheck_target_type\u001b[0m\u001b[0;34m\u001b[0m\u001b[0;34m\u001b[0m\u001b[0m\n\u001b[0;32m---> 21\u001b[0;31m \u001b[0;32mfrom\u001b[0m \u001b[0;34m.\u001b[0m\u001b[0mutils\u001b[0m\u001b[0;34m.\u001b[0m\u001b[0m_param_validation\u001b[0m \u001b[0;32mimport\u001b[0m \u001b[0mvalidate_parameter_constraints\u001b[0m\u001b[0;34m\u001b[0m\u001b[0;34m\u001b[0m\u001b[0m\n\u001b[0m\u001b[1;32m     22\u001b[0m \u001b[0;32mfrom\u001b[0m \u001b[0;34m.\u001b[0m\u001b[0mutils\u001b[0m\u001b[0;34m.\u001b[0m\u001b[0m_validation\u001b[0m \u001b[0;32mimport\u001b[0m \u001b[0mArraysTransformer\u001b[0m\u001b[0;34m\u001b[0m\u001b[0;34m\u001b[0m\u001b[0m\n\u001b[1;32m     23\u001b[0m \u001b[0;34m\u001b[0m\u001b[0m\n",
            "\u001b[0;32m/usr/local/lib/python3.10/dist-packages/imblearn/utils/_param_validation.py\u001b[0m in \u001b[0;36m<module>\u001b[0;34m\u001b[0m\n\u001b[1;32m    906\u001b[0m     \u001b[0;32mfrom\u001b[0m \u001b[0msklearn\u001b[0m\u001b[0;34m.\u001b[0m\u001b[0mutils\u001b[0m\u001b[0;34m.\u001b[0m\u001b[0m_param_validation\u001b[0m \u001b[0;32mimport\u001b[0m \u001b[0mgenerate_valid_param\u001b[0m  \u001b[0;31m# noqa\u001b[0m\u001b[0;34m\u001b[0m\u001b[0;34m\u001b[0m\u001b[0m\n\u001b[1;32m    907\u001b[0m     \u001b[0;32mfrom\u001b[0m \u001b[0msklearn\u001b[0m\u001b[0;34m.\u001b[0m\u001b[0mutils\u001b[0m\u001b[0;34m.\u001b[0m\u001b[0m_param_validation\u001b[0m \u001b[0;32mimport\u001b[0m \u001b[0mvalidate_parameter_constraints\u001b[0m  \u001b[0;31m# noqa\u001b[0m\u001b[0;34m\u001b[0m\u001b[0;34m\u001b[0m\u001b[0m\n\u001b[0;32m--> 908\u001b[0;31m     from sklearn.utils._param_validation import (\n\u001b[0m\u001b[1;32m    909\u001b[0m         \u001b[0mHasMethods\u001b[0m\u001b[0;34m,\u001b[0m\u001b[0;34m\u001b[0m\u001b[0;34m\u001b[0m\u001b[0m\n\u001b[1;32m    910\u001b[0m         \u001b[0mHidden\u001b[0m\u001b[0;34m,\u001b[0m\u001b[0;34m\u001b[0m\u001b[0;34m\u001b[0m\u001b[0m\n",
            "\u001b[0;31mImportError\u001b[0m: cannot import name '_MissingValues' from 'sklearn.utils._param_validation' (/usr/local/lib/python3.10/dist-packages/sklearn/utils/_param_validation.py)",
            "",
            "\u001b[0;31m---------------------------------------------------------------------------\u001b[0;32m\nNOTE: If your import is failing due to a missing package, you can\nmanually install dependencies using either !pip or !apt.\n\nTo view examples of installing some common dependencies, click the\n\"Open Examples\" button below.\n\u001b[0;31m---------------------------------------------------------------------------\u001b[0m\n"
          ],
          "errorDetails": {
            "actions": [
              {
                "action": "open_url",
                "actionText": "Open Examples",
                "url": "/notebooks/snippets/importing_libraries.ipynb"
              }
            ]
          }
        }
      ]
    },
    {
      "cell_type": "markdown",
      "source": [
        "**3. Manually Adjustment**"
      ],
      "metadata": {
        "id": "ilYWs2W1RLfb"
      }
    },
    {
      "cell_type": "code",
      "source": [
        "\n",
        "## Manually oversampling\n",
        "import numpy as np\n",
        "\n",
        "# Manual oversampling of the minority class\n",
        "minority_class = (y == 1)\n",
        "X_minority = X[minority_class]\n",
        "y_minority = y[minority_class]\n",
        "\n",
        "# Duplicate minority class examples\n",
        "X_minority_oversampled = np.tile(X_minority, (2, 1))  # Oversample by duplicating twice\n",
        "y_minority_oversampled = np.tile(y_minority, 2)\n",
        "\n",
        "# Combine with the rest of the training data\n",
        "X_res = np.vstack((X, X_minority_oversampled))\n",
        "y_res = np.hstack((y, y_minority_oversampled))"
      ],
      "metadata": {
        "id": "0yZWX-GL7FPk"
      },
      "execution_count": null,
      "outputs": []
    },
    {
      "cell_type": "markdown",
      "source": [
        "Feature Engineering"
      ],
      "metadata": {
        "id": "vCNvAPYznYGs"
      }
    },
    {
      "cell_type": "code",
      "source": [
        "import numpy as np\n",
        "import pandas as pd\n",
        "from sklearn.feature_selection import SelectKBest, f_classif\n",
        "import matplotlib.pyplot as plt\n",
        "\n",
        "# Assuming you have your own DataFrame 'df' with features and target variable\n",
        "# For demonstration, let's load the iris dataset (you can replace this with your own data)\n",
        "# X should contain your features, and y should be your target variable\n",
        "# Adjust this part based on your actual data\n",
        "X = df.drop(columns=['target_column'])  # Replace 'target_column' with your actual target column name\n",
        "y = df['target_column']  # Replace 'target_column' with your actual target column name\n",
        "\n",
        "# Univariate feature selection using F-test\n",
        "selector = SelectKBest(f_classif, k=4)\n",
        "selector.fit(X, y)\n",
        "scores = -np.log10(selector.pvalues_)\n",
        "scores /= scores.max()\n",
        "\n",
        "# Plot feature scores\n",
        "X_indices = np.arange(X.shape[-1])\n",
        "plt.figure(figsize=(8, 6))\n",
        "plt.bar(X_indices - 0.05, scores, width=0.2)\n",
        "plt.title(\"Univariate Feature Selection: Feature Scores\")\n",
        "plt.xlabel(\"Feature number\")\n",
        "plt.ylabel(r\"Univariate score ($-Log(p_{value})$)\")\n",
        "plt.show()\n",
        "\n",
        "# Print selected features\n",
        "selected_features = np.array(X_indices)[selector.get_support()]\n",
        "print(\"Selected Features:\", selected_features)\n"
      ],
      "metadata": {
        "id": "7yNqxGQY8lLU"
      },
      "execution_count": null,
      "outputs": []
    },
    {
      "cell_type": "markdown",
      "source": [
        "## Pearson Correlation\n",
        "\n",
        "Pearson correlation measures the linear relationship between two continuous variables. It’s commonly used for feature selection."
      ],
      "metadata": {
        "id": "uuEOgNPSo7bG"
      }
    },
    {
      "cell_type": "code",
      "source": [
        "import numpy as np\n",
        "import pandas as pd\n",
        "from sklearn.feature_selection import SelectKBest, f_classif\n",
        "import matplotlib.pyplot as plt\n",
        "\n",
        "# Assuming you have your own DataFrame 'df' with features and target variable\n",
        "# For demonstration, let's load the iris dataset (you can replace this with your own data)\n",
        "# X should contain your features, and y should be your target variable\n",
        "# Adjust this part based on your actual data\n",
        "X = df.drop(columns=['target_column'])  # Replace 'target_column' with your actual target column name\n",
        "y = df['target_column']  # Replace 'target_column' with your actual target column name\n",
        "\n",
        "# Univariate feature selection using F-test\n",
        "selector = SelectKBest(f_classif, k=4)\n",
        "selector.fit(X, y)\n",
        "scores = -np.log10(selector.pvalues_)\n",
        "scores /= scores.max()\n",
        "\n",
        "# Plot feature scores\n",
        "X_indices = np.arange(X.shape[-1])\n",
        "plt.figure(figsize=(8, 6))\n",
        "plt.bar(X_indices - 0.05, scores, width=0.2)\n",
        "plt.title(\"Univariate Feature Selection: Feature Scores\")\n",
        "plt.xlabel(\"Feature number\")\n",
        "plt.ylabel(r\"Univariate score ($-Log(p_{value})$)\")\n",
        "plt.show()\n",
        "\n",
        "# Print selected features\n",
        "selected_features = np.array(X_indices)[selector.get_support()]\n",
        "print(\"Selected Features:\", selected_features)\n"
      ],
      "metadata": {
        "id": "QleTQYR_4p8U"
      },
      "execution_count": null,
      "outputs": []
    },
    {
      "cell_type": "code",
      "source": [
        "import numpy as np\n",
        "import pandas as pd\n",
        "# from sklearn.datasets import load_iris\n",
        "from sklearn.feature_selection import SelectKBest, f_classif\n",
        "import matplotlib.pyplot as plt\n",
        "\n",
        "# Load the dataset\n",
        "X, y = load_iris(return_X_y=True)\n",
        "\n",
        "# Create noisy features (for demonstration)\n",
        "E = np.random.RandomState(42).uniform(0, 0.1, size=(X.shape[0], 20))\n",
        "X = np.hstack((X, E))\n",
        "\n",
        "# Split dataset\n",
        "from sklearn.model_selection import train_test_split\n",
        "X_train, X_test, y_train, y_test = train_test_split(X, y, stratify=y, random_state=0)\n",
        "\n",
        "# Univariate feature selection using F-test\n",
        "selector = SelectKBest(f_classif, k=4)\n",
        "selector.fit(X_train, y_train)\n",
        "scores = -np.log10(selector.pvalues_)\n",
        "scores /= scores.max()\n",
        "\n",
        "# Plot feature scores\n",
        "X_indices = np.arange(X.shape[-1])\n",
        "plt.figure(figsize=(8, 6))\n",
        "plt.bar(X_indices - 0.05, scores, width=0.2)\n",
        "plt.title(\"Univariate Feature Selection: Feature Scores\")\n",
        "plt.xlabel(\"Feature number\")\n",
        "plt.ylabel(r\"Univariate score ($-Log(p_{value})$)\")\n",
        "plt.show()\n",
        "\n",
        "# Print selected features\n",
        "selected_features = np.array(X_indices)[selector.get_support()]\n",
        "print(\"Selected Features:\", selected_features)\n"
      ],
      "metadata": {
        "colab": {
          "base_uri": "https://localhost:8080/",
          "height": 582
        },
        "id": "9ymCW_4To_Hz",
        "outputId": "acf9e065-260c-464e-a668-9fba43b7bde1"
      },
      "execution_count": null,
      "outputs": [
        {
          "output_type": "display_data",
          "data": {
            "text/plain": [
              "<Figure size 800x600 with 1 Axes>"
            ],
            "image/png": "[encoded data removed]"
          },
          "metadata": {}
        },
        {
          "output_type": "stream",
          "name": "stdout",
          "text": [
            "Selected Features: [0 1 2 3]\n"
          ]
        }
      ]
    },
    {
      "cell_type": "code",
      "source": [],
      "metadata": {
        "id": "CvBjE8HCpVO8"
      },
      "execution_count": null,
      "outputs": []
    },
    {
      "cell_type": "code",
      "source": [
        "from sklearn.feature_selection import SelectKBest\n",
        "from sklearn.feature_selection import chi2\n",
        "\n",
        "# Select top k features based on chi-squared test\n",
        "k = 5  # Number of top features to select\n",
        "chi2_selector = SelectKBest(chi2, k=k)\n",
        "X_kbest = chi2_selector.fit_transform(X, y)\n",
        "\n",
        "# Get selected feature indices and names\n",
        "selected_features = chi2_selector.get_support(indices=True)\n",
        "selected_feature_names = [df.feature_names[i] for i in selected_features]\n",
        "\n",
        "print(\"Selected features:\", selected_feature_names)"
      ],
      "metadata": {
        "colab": {
          "base_uri": "https://localhost:8080/",
          "height": 372
        },
        "id": "xkRFwLrAs87i",
        "outputId": "5c613978-65bc-40d8-9a11-e5d3db4f7f05"
      },
      "execution_count": null,
      "outputs": [
        {
          "output_type": "error",
          "ename": "ValueError",
          "evalue": "Input X must be non-negative.",
          "traceback": [
            "\u001b[0;31m---------------------------------------------------------------------------\u001b[0m",
            "\u001b[0;31mValueError\u001b[0m                                Traceback (most recent call last)",
            "\u001b[0;32m<ipython-input-32-b9070ca1ad75>\u001b[0m in \u001b[0;36m<cell line: 7>\u001b[0;34m()\u001b[0m\n\u001b[1;32m      5\u001b[0m \u001b[0mk\u001b[0m \u001b[0;34m=\u001b[0m \u001b[0;36m5\u001b[0m  \u001b[0;31m# Number of top features to select\u001b[0m\u001b[0;34m\u001b[0m\u001b[0;34m\u001b[0m\u001b[0m\n\u001b[1;32m      6\u001b[0m \u001b[0mchi2_selector\u001b[0m \u001b[0;34m=\u001b[0m \u001b[0mSelectKBest\u001b[0m\u001b[0;34m(\u001b[0m\u001b[0mchi2\u001b[0m\u001b[0;34m,\u001b[0m \u001b[0mk\u001b[0m\u001b[0;34m=\u001b[0m\u001b[0mk\u001b[0m\u001b[0;34m)\u001b[0m\u001b[0;34m\u001b[0m\u001b[0;34m\u001b[0m\u001b[0m\n\u001b[0;32m----> 7\u001b[0;31m \u001b[0mX_kbest\u001b[0m \u001b[0;34m=\u001b[0m \u001b[0mchi2_selector\u001b[0m\u001b[0;34m.\u001b[0m\u001b[0mfit_transform\u001b[0m\u001b[0;34m(\u001b[0m\u001b[0mX\u001b[0m\u001b[0;34m,\u001b[0m \u001b[0my\u001b[0m\u001b[0;34m)\u001b[0m\u001b[0;34m\u001b[0m\u001b[0;34m\u001b[0m\u001b[0m\n\u001b[0m\u001b[1;32m      8\u001b[0m \u001b[0;34m\u001b[0m\u001b[0m\n\u001b[1;32m      9\u001b[0m \u001b[0;31m# Get selected feature indices and names\u001b[0m\u001b[0;34m\u001b[0m\u001b[0;34m\u001b[0m\u001b[0m\n",
            "\u001b[0;32m/usr/local/lib/python3.10/dist-packages/sklearn/utils/_set_output.py\u001b[0m in \u001b[0;36mwrapped\u001b[0;34m(self, X, *args, **kwargs)\u001b[0m\n\u001b[1;32m    293\u001b[0m     \u001b[0;34m@\u001b[0m\u001b[0mwraps\u001b[0m\u001b[0;34m(\u001b[0m\u001b[0mf\u001b[0m\u001b[0;34m)\u001b[0m\u001b[0;34m\u001b[0m\u001b[0;34m\u001b[0m\u001b[0m\n\u001b[1;32m    294\u001b[0m     \u001b[0;32mdef\u001b[0m \u001b[0mwrapped\u001b[0m\u001b[0;34m(\u001b[0m\u001b[0mself\u001b[0m\u001b[0;34m,\u001b[0m \u001b[0mX\u001b[0m\u001b[0;34m,\u001b[0m \u001b[0;34m*\u001b[0m\u001b[0margs\u001b[0m\u001b[0;34m,\u001b[0m \u001b[0;34m**\u001b[0m\u001b[0mkwargs\u001b[0m\u001b[0;34m)\u001b[0m\u001b[0;34m:\u001b[0m\u001b[0;34m\u001b[0m\u001b[0;34m\u001b[0m\u001b[0m\n\u001b[0;32m--> 295\u001b[0;31m         \u001b[0mdata_to_wrap\u001b[0m \u001b[0;34m=\u001b[0m \u001b[0mf\u001b[0m\u001b[0;34m(\u001b[0m\u001b[0mself\u001b[0m\u001b[0;34m,\u001b[0m \u001b[0mX\u001b[0m\u001b[0;34m,\u001b[0m \u001b[0;34m*\u001b[0m\u001b[0margs\u001b[0m\u001b[0;34m,\u001b[0m \u001b[0;34m**\u001b[0m\u001b[0mkwargs\u001b[0m\u001b[0;34m)\u001b[0m\u001b[0;34m\u001b[0m\u001b[0;34m\u001b[0m\u001b[0m\n\u001b[0m\u001b[1;32m    296\u001b[0m         \u001b[0;32mif\u001b[0m \u001b[0misinstance\u001b[0m\u001b[0;34m(\u001b[0m\u001b[0mdata_to_wrap\u001b[0m\u001b[0;34m,\u001b[0m \u001b[0mtuple\u001b[0m\u001b[0;34m)\u001b[0m\u001b[0;34m:\u001b[0m\u001b[0;34m\u001b[0m\u001b[0;34m\u001b[0m\u001b[0m\n\u001b[1;32m    297\u001b[0m             \u001b[0;31m# only wrap the first output for cross decomposition\u001b[0m\u001b[0;34m\u001b[0m\u001b[0;34m\u001b[0m\u001b[0m\n",
            "\u001b[0;32m/usr/local/lib/python3.10/dist-packages/sklearn/base.py\u001b[0m in \u001b[0;36mfit_transform\u001b[0;34m(self, X, y, **fit_params)\u001b[0m\n\u001b[1;32m   1099\u001b[0m         \u001b[0;32melse\u001b[0m\u001b[0;34m:\u001b[0m\u001b[0;34m\u001b[0m\u001b[0;34m\u001b[0m\u001b[0m\n\u001b[1;32m   1100\u001b[0m             \u001b[0;31m# fit method of arity 2 (supervised transformation)\u001b[0m\u001b[0;34m\u001b[0m\u001b[0;34m\u001b[0m\u001b[0m\n\u001b[0;32m-> 1101\u001b[0;31m             \u001b[0;32mreturn\u001b[0m \u001b[0mself\u001b[0m\u001b[0;34m.\u001b[0m\u001b[0mfit\u001b[0m\u001b[0;34m(\u001b[0m\u001b[0mX\u001b[0m\u001b[0;34m,\u001b[0m \u001b[0my\u001b[0m\u001b[0;34m,\u001b[0m \u001b[0;34m**\u001b[0m\u001b[0mfit_params\u001b[0m\u001b[0;34m)\u001b[0m\u001b[0;34m.\u001b[0m\u001b[0mtransform\u001b[0m\u001b[0;34m(\u001b[0m\u001b[0mX\u001b[0m\u001b[0;34m)\u001b[0m\u001b[0;34m\u001b[0m\u001b[0;34m\u001b[0m\u001b[0m\n\u001b[0m\u001b[1;32m   1102\u001b[0m \u001b[0;34m\u001b[0m\u001b[0m\n\u001b[1;32m   1103\u001b[0m \u001b[0;34m\u001b[0m\u001b[0m\n",
            "\u001b[0;32m/usr/local/lib/python3.10/dist-packages/sklearn/base.py\u001b[0m in \u001b[0;36mwrapper\u001b[0;34m(estimator, *args, **kwargs)\u001b[0m\n\u001b[1;32m   1472\u001b[0m                 )\n\u001b[1;32m   1473\u001b[0m             ):\n\u001b[0;32m-> 1474\u001b[0;31m                 \u001b[0;32mreturn\u001b[0m \u001b[0mfit_method\u001b[0m\u001b[0;34m(\u001b[0m\u001b[0mestimator\u001b[0m\u001b[0;34m,\u001b[0m \u001b[0;34m*\u001b[0m\u001b[0margs\u001b[0m\u001b[0;34m,\u001b[0m \u001b[0;34m**\u001b[0m\u001b[0mkwargs\u001b[0m\u001b[0;34m)\u001b[0m\u001b[0;34m\u001b[0m\u001b[0;34m\u001b[0m\u001b[0m\n\u001b[0m\u001b[1;32m   1475\u001b[0m \u001b[0;34m\u001b[0m\u001b[0m\n\u001b[1;32m   1476\u001b[0m         \u001b[0;32mreturn\u001b[0m \u001b[0mwrapper\u001b[0m\u001b[0;34m\u001b[0m\u001b[0;34m\u001b[0m\u001b[0m\n",
            "\u001b[0;32m/usr/local/lib/python3.10/dist-packages/sklearn/feature_selection/_univariate_selection.py\u001b[0m in \u001b[0;36mfit\u001b[0;34m(self, X, y)\u001b[0m\n\u001b[1;32m    565\u001b[0m \u001b[0;34m\u001b[0m\u001b[0m\n\u001b[1;32m    566\u001b[0m         \u001b[0mself\u001b[0m\u001b[0;34m.\u001b[0m\u001b[0m_check_params\u001b[0m\u001b[0;34m(\u001b[0m\u001b[0mX\u001b[0m\u001b[0;34m,\u001b[0m \u001b[0my\u001b[0m\u001b[0;34m)\u001b[0m\u001b[0;34m\u001b[0m\u001b[0;34m\u001b[0m\u001b[0m\n\u001b[0;32m--> 567\u001b[0;31m         \u001b[0mscore_func_ret\u001b[0m \u001b[0;34m=\u001b[0m \u001b[0mself\u001b[0m\u001b[0;34m.\u001b[0m\u001b[0mscore_func\u001b[0m\u001b[0;34m(\u001b[0m\u001b[0mX\u001b[0m\u001b[0;34m,\u001b[0m \u001b[0my\u001b[0m\u001b[0;34m)\u001b[0m\u001b[0;34m\u001b[0m\u001b[0;34m\u001b[0m\u001b[0m\n\u001b[0m\u001b[1;32m    568\u001b[0m         \u001b[0;32mif\u001b[0m \u001b[0misinstance\u001b[0m\u001b[0;34m(\u001b[0m\u001b[0mscore_func_ret\u001b[0m\u001b[0;34m,\u001b[0m \u001b[0;34m(\u001b[0m\u001b[0mlist\u001b[0m\u001b[0;34m,\u001b[0m \u001b[0mtuple\u001b[0m\u001b[0;34m)\u001b[0m\u001b[0;34m)\u001b[0m\u001b[0;34m:\u001b[0m\u001b[0;34m\u001b[0m\u001b[0;34m\u001b[0m\u001b[0m\n\u001b[1;32m    569\u001b[0m             \u001b[0mself\u001b[0m\u001b[0;34m.\u001b[0m\u001b[0mscores_\u001b[0m\u001b[0;34m,\u001b[0m \u001b[0mself\u001b[0m\u001b[0;34m.\u001b[0m\u001b[0mpvalues_\u001b[0m \u001b[0;34m=\u001b[0m \u001b[0mscore_func_ret\u001b[0m\u001b[0;34m\u001b[0m\u001b[0;34m\u001b[0m\u001b[0m\n",
            "\u001b[0;32m/usr/local/lib/python3.10/dist-packages/sklearn/utils/_param_validation.py\u001b[0m in \u001b[0;36mwrapper\u001b[0;34m(*args, **kwargs)\u001b[0m\n\u001b[1;32m    184\u001b[0m             \u001b[0mglobal_skip_validation\u001b[0m \u001b[0;34m=\u001b[0m \u001b[0mget_config\u001b[0m\u001b[0;34m(\u001b[0m\u001b[0;34m)\u001b[0m\u001b[0;34m[\u001b[0m\u001b[0;34m\"skip_parameter_validation\"\u001b[0m\u001b[0;34m]\u001b[0m\u001b[0;34m\u001b[0m\u001b[0;34m\u001b[0m\u001b[0m\n\u001b[1;32m    185\u001b[0m             \u001b[0;32mif\u001b[0m \u001b[0mglobal_skip_validation\u001b[0m\u001b[0;34m:\u001b[0m\u001b[0;34m\u001b[0m\u001b[0;34m\u001b[0m\u001b[0m\n\u001b[0;32m--> 186\u001b[0;31m                 \u001b[0;32mreturn\u001b[0m \u001b[0mfunc\u001b[0m\u001b[0;34m(\u001b[0m\u001b[0;34m*\u001b[0m\u001b[0margs\u001b[0m\u001b[0;34m,\u001b[0m \u001b[0;34m**\u001b[0m\u001b[0mkwargs\u001b[0m\u001b[0;34m)\u001b[0m\u001b[0;34m\u001b[0m\u001b[0;34m\u001b[0m\u001b[0m\n\u001b[0m\u001b[1;32m    187\u001b[0m \u001b[0;34m\u001b[0m\u001b[0m\n\u001b[1;32m    188\u001b[0m             \u001b[0mfunc_sig\u001b[0m \u001b[0;34m=\u001b[0m \u001b[0msignature\u001b[0m\u001b[0;34m(\u001b[0m\u001b[0mfunc\u001b[0m\u001b[0;34m)\u001b[0m\u001b[0;34m\u001b[0m\u001b[0;34m\u001b[0m\u001b[0m\n",
            "\u001b[0;32m/usr/local/lib/python3.10/dist-packages/sklearn/feature_selection/_univariate_selection.py\u001b[0m in \u001b[0;36mchi2\u001b[0;34m(X, y)\u001b[0m\n\u001b[1;32m    264\u001b[0m     \u001b[0mX\u001b[0m \u001b[0;34m=\u001b[0m \u001b[0mcheck_array\u001b[0m\u001b[0;34m(\u001b[0m\u001b[0mX\u001b[0m\u001b[0;34m,\u001b[0m \u001b[0maccept_sparse\u001b[0m\u001b[0;34m=\u001b[0m\u001b[0;34m\"csr\"\u001b[0m\u001b[0;34m,\u001b[0m \u001b[0mdtype\u001b[0m\u001b[0;34m=\u001b[0m\u001b[0;34m(\u001b[0m\u001b[0mnp\u001b[0m\u001b[0;34m.\u001b[0m\u001b[0mfloat64\u001b[0m\u001b[0;34m,\u001b[0m \u001b[0mnp\u001b[0m\u001b[0;34m.\u001b[0m\u001b[0mfloat32\u001b[0m\u001b[0;34m)\u001b[0m\u001b[0;34m)\u001b[0m\u001b[0;34m\u001b[0m\u001b[0;34m\u001b[0m\u001b[0m\n\u001b[1;32m    265\u001b[0m     \u001b[0;32mif\u001b[0m \u001b[0mnp\u001b[0m\u001b[0;34m.\u001b[0m\u001b[0many\u001b[0m\u001b[0;34m(\u001b[0m\u001b[0;34m(\u001b[0m\u001b[0mX\u001b[0m\u001b[0;34m.\u001b[0m\u001b[0mdata\u001b[0m \u001b[0;32mif\u001b[0m \u001b[0missparse\u001b[0m\u001b[0;34m(\u001b[0m\u001b[0mX\u001b[0m\u001b[0;34m)\u001b[0m \u001b[0;32melse\u001b[0m \u001b[0mX\u001b[0m\u001b[0;34m)\u001b[0m \u001b[0;34m<\u001b[0m \u001b[0;36m0\u001b[0m\u001b[0;34m)\u001b[0m\u001b[0;34m:\u001b[0m\u001b[0;34m\u001b[0m\u001b[0;34m\u001b[0m\u001b[0m\n\u001b[0;32m--> 266\u001b[0;31m         \u001b[0;32mraise\u001b[0m \u001b[0mValueError\u001b[0m\u001b[0;34m(\u001b[0m\u001b[0;34m\"Input X must be non-negative.\"\u001b[0m\u001b[0;34m)\u001b[0m\u001b[0;34m\u001b[0m\u001b[0;34m\u001b[0m\u001b[0m\n\u001b[0m\u001b[1;32m    267\u001b[0m \u001b[0;34m\u001b[0m\u001b[0m\n\u001b[1;32m    268\u001b[0m     \u001b[0;31m# Use a sparse representation for Y by default to reduce memory usage when\u001b[0m\u001b[0;34m\u001b[0m\u001b[0;34m\u001b[0m\u001b[0m\n",
            "\u001b[0;31mValueError\u001b[0m: Input X must be non-negative."
          ]
        }
      ]
    },
    {
      "cell_type": "markdown",
      "source": [
        "# Machine learning fabrication"
      ],
      "metadata": {
        "id": "FviSygutT7hU"
      }
    },
    {
      "cell_type": "markdown",
      "source": [
        "## Model 1. Support Vector Machine"
      ],
      "metadata": {
        "id": "k6s0PD0pcad-"
      }
    },
    {
      "cell_type": "code",
      "source": [
        "import matplotlib.pyplot as plt\n",
        "import numpy as np\n",
        "import pandas as pd\n",
        "from sklearn.svm import SVC\n",
        "from sklearn.metrics import roc_curve, auc, f1_score, accuracy_score, precision_score, recall_score, confusion_matrix\n",
        "from sklearn.model_selection import StratifiedKFold\n",
        "import joblib\n",
        "\n",
        "# Assuming X and y are already defined and preprocessed\n",
        "# X = ... # Your features\n",
        "# y = ... # Your target variable\n",
        "\n",
        "n_splits = 10\n",
        "cv = StratifiedKFold(n_splits=n_splits)\n",
        "\n",
        "classifier = SVC(probability=True)\n",
        "\n",
        "# Initialize lists to store metrics\n",
        "tprs = []\n",
        "aucs = []\n",
        "mean_fpr = np.linspace(0, 1, 100)\n",
        "\n",
        "# Initialize Series to store AUC of folds\n",
        "AUC_collection = pd.Series(dtype=float)\n",
        "\n",
        "# Initialize lists to store other metrics\n",
        "f1_scores = []\n",
        "accuracies = []\n",
        "precisions = []\n",
        "recalls = []\n",
        "specificities = []\n",
        "\n",
        "for fold, (train, test) in enumerate(cv.split(X, y)):\n",
        "    classifier.fit(X[train], y[train])\n",
        "    y_pred = classifier.predict(X[test])\n",
        "    y_proba = classifier.predict_proba(X[test])[:, 1]\n",
        "\n",
        "    # Compute ROC curve and AUC\n",
        "    fpr, tpr, _ = roc_curve(y[test], y_proba)\n",
        "    roc_auc = auc(fpr, tpr)\n",
        "    interp_tpr = np.interp(mean_fpr, fpr, tpr)\n",
        "    interp_tpr[0] = 0.0\n",
        "    tprs.append(interp_tpr)\n",
        "    aucs.append(roc_auc)\n",
        "\n",
        "    # Store AUC in Series\n",
        "    AUC_collection[f'Fold {fold+1}'] = roc_auc\n",
        "\n",
        "    # Compute other metrics\n",
        "    f1_scores.append(f1_score(y[test], y_pred))\n",
        "    accuracies.append(accuracy_score(y[test], y_pred))\n",
        "    precisions.append(precision_score(y[test], y_pred))\n",
        "    recalls.append(recall_score(y[test], y_pred))\n",
        "    tn, fp, fn, tp = confusion_matrix(y[test], y_pred).ravel()\n",
        "    specificity = tn / (tn+fp)\n",
        "    specificities.append(specificity)\n",
        "\n",
        "mean_tpr = np.mean(tprs, axis=0)\n",
        "mean_tpr[-1] = 1.0\n",
        "mean_auc = auc(mean_fpr, mean_tpr)\n",
        "std_auc = np.std(aucs)\n",
        "\n",
        "plt.figure(figsize=(6, 6))\n",
        "plt.plot(mean_fpr, mean_tpr, color='blue',\n",
        "         label=r\"Mean ROC (AUC = %0.2f $\\pm$ %0.2f)\" % (mean_auc, std_auc),\n",
        "         lw=2, alpha=0.8)\n",
        "\n",
        "std_tpr = np.std(tprs, axis=0)\n",
        "tprs_upper = np.minimum(mean_tpr + std_tpr, 1)\n",
        "tprs_lower = np.maximum(mean_tpr - std_tpr, 0)\n",
        "\n",
        "plt.xlabel('False Positive Rate')\n",
        "plt.ylabel('True Positive Rate')\n",
        "plt.title('Mean ROC curve')\n",
        "plt.legend(loc='lower right')\n",
        "plt.show()\n",
        "\n",
        "# Print the metrics\n",
        "print(f'Mean F1 Score: {np.mean(f1_scores)}')\n",
        "print(f'Mean Accuracy: {np.mean(accuracies)}')\n",
        "print(f'Mean Precision: {np.mean(precisions)}')\n",
        "print(f'Mean Recall: {np.mean(recalls)}')\n",
        "print(f'Mean Specificity: {np.mean(specificities)}')\n",
        "\n",
        "# Display the confusion matrix for the last fold\n",
        "cm = confusion_matrix(y[test], y_pred)\n",
        "plt.figure(figsize=(6, 6))\n",
        "plt.matshow(cm, cmap=plt.cm.Blues, alpha=0.3)\n",
        "for i in range(cm.shape[0]):\n",
        "    for j in range(cm.shape[1]):\n",
        "        plt.text(x=j, y=i, s=cm[i, j], va='center', ha='center')\n",
        "plt.xlabel('Predicted labels')\n",
        "plt.ylabel('True labels')\n",
        "plt.title('Confusion Matrix')\n",
        "plt.show()\n",
        "\n",
        "# Print AUC collection\n",
        "print(AUC_collection)\n",
        "\n",
        "# Save the trained model to a file\n",
        "joblib.dump(classifier, 'SVM_model.joblib')\n",
        "\n",
        "# Save other metrics to a dictionary\n",
        "metrics = {\n",
        "    'AUC_collection': AUC_collection,\n",
        "    'Mean F1 Score': np.mean(f1_scores),\n",
        "    'Mean Accuracy': np.mean(accuracies),\n",
        "    'Mean Precision': np.mean(precisions),\n",
        "    'Mean Recall': np.mean(recalls),\n",
        "    'Mean Specificity': np.mean(specificities)\n",
        "}\n",
        "\n",
        "# Save the metrics dictionary to a file\n",
        "joblib.dump(metrics, 'SVM_metrics.joblib')\n",
        "\n",
        "# Print a success message\n",
        "print(\"The SVM model and metrics have been saved successfully.\")\n"
      ],
      "metadata": {
        "colab": {
          "base_uri": "https://localhost:8080/",
          "height": 1000
        },
        "id": "Hraknowa4jDD",
        "outputId": "4898d22f-27a2-4fb0-fd0d-45c90a7c12d8"
      },
      "execution_count": null,
      "outputs": [
        {
          "output_type": "display_data",
          "data": {
            "text/plain": [
              "<Figure size 600x600 with 1 Axes>"
            ],
            "image/png": "[encoded data removed]"
          },
          "metadata": {}
        },
        {
          "output_type": "stream",
          "name": "stdout",
          "text": [
            "Mean F1 Score: 0.9438304858430543\n",
            "Mean Accuracy: 0.8936430496149448\n",
            "Mean Precision: 0.8936354358355579\n",
            "Mean Recall: 1.0\n",
            "Mean Specificity: 0.0006756756756756757\n"
          ]
        },
        {
          "output_type": "display_data",
          "data": {
            "text/plain": [
              "<Figure size 600x600 with 0 Axes>"
            ]
          },
          "metadata": {}
        },
        {
          "output_type": "display_data",
          "data": {
            "text/plain": [
              "<Figure size 480x480 with 1 Axes>"
            ],
            "image/png": "[encoded data removed]"
          },
          "metadata": {}
        },
        {
          "output_type": "stream",
          "name": "stdout",
          "text": [
            "Fold 1     0.689543\n",
            "Fold 2     0.654585\n",
            "Fold 3     0.687162\n",
            "Fold 4     0.654147\n",
            "Fold 5     0.630906\n",
            "Fold 6     0.658759\n",
            "Fold 7     0.637681\n",
            "Fold 8     0.622867\n",
            "Fold 9     0.641016\n",
            "Fold 10    0.702240\n",
            "dtype: float64\n",
            "The SVM model and metrics have been saved successfully.\n"
          ]
        }
      ]
    },
    {
      "cell_type": "markdown",
      "source": [
        "## Model 2. RandomForestClassifier"
      ],
      "metadata": {
        "id": "xQzkJL5oeo3d"
      }
    },
    {
      "cell_type": "code",
      "source": [
        "import matplotlib.pyplot as plt\n",
        "import numpy as np\n",
        "import pandas as pd\n",
        "from sklearn.ensemble import RandomForestClassifier\n",
        "from sklearn.metrics import roc_curve, auc, f1_score, accuracy_score, precision_score, recall_score, confusion_matrix\n",
        "from sklearn.model_selection import StratifiedKFold\n",
        "import joblib\n",
        "\n",
        "# Assuming X and y are already defined and preprocessed\n",
        "# X = ... # Your features\n",
        "# y = ... # Your target variable\n",
        "\n",
        "n_splits = 10\n",
        "cv = StratifiedKFold(n_splits=n_splits)\n",
        "\n",
        "classifier = RandomForestClassifier(n_estimators=100)\n",
        "\n",
        "# Initialize lists to store metrics\n",
        "tprs = []\n",
        "aucs = []\n",
        "mean_fpr = np.linspace(0, 1, 100)\n",
        "\n",
        "# Initialize Series to store AUC of folds\n",
        "AUC_collection = pd.Series(dtype=float)\n",
        "\n",
        "# Initialize lists to store other metrics\n",
        "f1_scores = []\n",
        "accuracies = []\n",
        "precisions = []\n",
        "recalls = []\n",
        "specificities = []\n",
        "\n",
        "for fold, (train, test) in enumerate(cv.split(X, y)):\n",
        "    rf = classifier.fit(X[train], y[train])\n",
        "    y_pred = classifier.predict(X[test])\n",
        "    y_proba = classifier.predict_proba(X[test])[:, 1]\n",
        "\n",
        "    # Compute ROC curve and AUC\n",
        "    fpr, tpr, _ = roc_curve(y[test], y_proba)\n",
        "    roc_auc = auc(fpr, tpr)\n",
        "    interp_tpr = np.interp(mean_fpr, fpr, tpr)\n",
        "    interp_tpr[0] = 0.0\n",
        "    tprs.append(interp_tpr)\n",
        "    aucs.append(roc_auc)\n",
        "\n",
        "    # Store AUC in Series\n",
        "    AUC_collection[f'Fold {fold+1}'] = roc_auc\n",
        "\n",
        "    # Compute other metrics\n",
        "    f1_scores.append(f1_score(y[test], y_pred))\n",
        "    accuracies.append(accuracy_score(y[test], y_pred))\n",
        "    precisions.append(precision_score(y[test], y_pred))\n",
        "    recalls.append(recall_score(y[test], y_pred))\n",
        "    tn, fp, fn, tp = confusion_matrix(y[test], y_pred).ravel()\n",
        "    specificity = tn / (tn+fp)\n",
        "    specificities.append(specificity)\n",
        "\n",
        "mean_tpr = np.mean(tprs, axis=0)\n",
        "mean_tpr[-1] = 1.0\n",
        "mean_auc = auc(mean_fpr, mean_tpr)\n",
        "std_auc = np.std(aucs)\n",
        "\n",
        "plt.figure(figsize=(6, 6))\n",
        "plt.plot(mean_fpr, mean_tpr, color='blue',\n",
        "         #label=r'Mean ROC (AUC = %0.2f)' % (mean_auc),\n",
        "         label=r\"Mean ROC (AUC = %0.2f $\\pm$ %0.2f)\" % (mean_auc, std_auc),\n",
        "         lw=2, alpha=0.8)\n",
        "std_tpr = np.std(tprs, axis=0)\n",
        "tprs_upper = np.minimum(mean_tpr + std_tpr, 1)\n",
        "tprs_lower = np.maximum(mean_tpr - std_tpr, 0)\n",
        "# ax.fill_between(\n",
        "#     mean_fpr,\n",
        "#     tprs_lower,\n",
        "#     tprs_upper,\n",
        "#     color=\"grey\",\n",
        "#     alpha=0.2,\n",
        "#     label=r\"$\\pm$ 1 std. dev.\",\n",
        "# )\n",
        "plt.xlabel('False Positive Rate')\n",
        "plt.ylabel('True Positive Rate')\n",
        "plt.title('Mean ROC curve')\n",
        "plt.legend(loc='lower right')\n",
        "plt.show()\n",
        "\n",
        "# Print the metrics\n",
        "print(f'Mean F1 Score: {np.mean(f1_scores)}')\n",
        "print(f'Mean Accuracy: {np.mean(accuracies)}')\n",
        "print(f'Mean Precision: {np.mean(precisions)}')\n",
        "print(f'Mean Recall: {np.mean(recalls)}')\n",
        "print(f'Mean Specificity: {np.mean(specificities)}')\n",
        "\n",
        "# Display the confusion matrix for the last fold\n",
        "cm = confusion_matrix(y[test], y_pred)\n",
        "plt.figure(figsize=(6, 6))\n",
        "plt.matshow(cm, cmap=plt.cm.Blues, alpha=0.3)\n",
        "for i in range(cm.shape[0]):\n",
        "    for j in range(cm.shape[1]):\n",
        "        plt.text(x=j, y=i, s=cm[i, j], va='center', ha='center')\n",
        "plt.xlabel('Predicted labels')\n",
        "plt.ylabel('True labels')\n",
        "plt.title('Confusion Matrix')\n",
        "plt.show()\n",
        "\n",
        "# Print AUC collection\n",
        "print(AUC_collection)\n",
        "\n",
        "import joblib\n",
        "\n",
        "# Save the trained model to a file\n",
        "joblib.dump(classifier, 'RFC_model.joblib')\n",
        "\n",
        "# Save other metrics to a dictionary\n",
        "metrics = {\n",
        "    'AUC_collection': AUC_collection,\n",
        "    'Mean F1 Score': np.mean(f1_scores),\n",
        "    'Mean Accuracy': np.mean(accuracies),\n",
        "    'Mean Precision': np.mean(precisions),\n",
        "    'Mean Recall': np.mean(recalls),\n",
        "    'Mean Specificity': np.mean(specificities)\n",
        "}\n",
        "\n",
        "# Save the metrics dictionary to a file\n",
        "joblib.dump(metrics, 'RFC_metrics.joblib')\n",
        "\n",
        "# Print a success message\n",
        "print(\"The Random Forest Classifier model and metrics have been saved successfully.\")\n"
      ],
      "metadata": {
        "colab": {
          "base_uri": "https://localhost:8080/",
          "height": 1000
        },
        "id": "9TAfRVQ85liu",
        "outputId": "a8260663-23f8-414f-ea6f-62dae6141d99"
      },
      "execution_count": null,
      "outputs": [
        {
          "output_type": "display_data",
          "data": {
            "text/plain": [
              "<Figure size 600x600 with 1 Axes>"
            ],
            "image/png": "[encoded data removed]"
          },
          "metadata": {}
        },
        {
          "output_type": "stream",
          "name": "stdout",
          "text": [
            "Mean F1 Score: 0.958360525448095\n",
            "Mean Accuracy: 0.9223345349600981\n",
            "Mean Precision: 0.9200647411941778\n",
            "Mean Recall: 1.0\n",
            "Mean Specificity: 0.2702702702702703\n"
          ]
        },
        {
          "output_type": "display_data",
          "data": {
            "text/plain": [
              "<Figure size 600x600 with 0 Axes>"
            ]
          },
          "metadata": {}
        },
        {
          "output_type": "display_data",
          "data": {
            "text/plain": [
              "<Figure size 480x480 with 1 Axes>"
            ],
            "image/png": "[encoded data removed]"
          },
          "metadata": {}
        },
        {
          "output_type": "stream",
          "name": "stdout",
          "text": [
            "Fold 1     0.975710\n",
            "Fold 2     0.990566\n",
            "Fold 3     0.989022\n",
            "Fold 4     0.969962\n",
            "Fold 5     0.984606\n",
            "Fold 6     0.979545\n",
            "Fold 7     0.977456\n",
            "Fold 8     0.978775\n",
            "Fold 9     0.991394\n",
            "Fold 10    0.995000\n",
            "dtype: float64\n",
            "The Random Forest Classifier model and metrics have been saved successfully.\n"
          ]
        }
      ]
    },
    {
      "cell_type": "code",
      "source": [
        "\n",
        "from sklearn.inspection import permutation_importance\n",
        "result = permutation_importance(rf, X, y, n_repeats=10, random_state=0, n_jobs=2)\n",
        "\n",
        "\n",
        "# Plot the results\n",
        "fig, ax = plt.subplots()\n",
        "sorted_idx = result.importances_mean.argsort()\n",
        "ax.boxplot(\n",
        "    result.importances[sorted_idx].T, vert=False, labels=y[sorted_idx]\n",
        ")\n",
        "ax.set_title(\"Permutation Importance of each feature\")\n",
        "ax.set_ylabel(\"Features\")\n",
        "fig.tight_layout()\n",
        "plt.show()"
      ],
      "metadata": {
        "colab": {
          "base_uri": "https://localhost:8080/",
          "height": 487
        },
        "id": "Lbsj60Zd8rGi",
        "outputId": "9c5ec844-61f8-4c00-dfdf-a78c2f143fd7"
      },
      "execution_count": null,
      "outputs": [
        {
          "output_type": "display_data",
          "data": {
            "text/plain": [
              "<Figure size 640x480 with 1 Axes>"
            ],
            "image/png": "[encoded data removed]"
          },
          "metadata": {}
        }
      ]
    },
    {
      "cell_type": "code",
      "source": [
        "y[sorted_idx]"
      ],
      "metadata": {
        "colab": {
          "base_uri": "https://localhost:8080/"
        },
        "id": "rHR3L3nDDAj1",
        "outputId": "a4f5b3f2-4759-4dbd-aff2-77d15b9b2414"
      },
      "execution_count": null,
      "outputs": [
        {
          "output_type": "execute_result",
          "data": {
            "text/plain": [
              "array([1, 1, 1, 1, 1, 0, 1, 1, 1, 0, 1, 1, 0, 1, 1, 1, 1, 0, 0, 0, 0, 1,\n",
              "       0, 1, 1, 0, 1, 1, 1, 0, 0, 0, 0, 1, 0, 0, 1, 1, 0, 0, 0, 1, 1, 0,\n",
              "       1, 1, 0, 0, 1, 1, 1, 0, 0, 1, 1, 0, 0, 0, 1, 0, 0])"
            ]
          },
          "metadata": {},
          "execution_count": 35
        }
      ]
    },
    {
      "cell_type": "markdown",
      "source": [
        "## K-Nearest Neighbours"
      ],
      "metadata": {
        "id": "ogysqZBTLLQa"
      }
    },
    {
      "cell_type": "code",
      "source": [
        "import matplotlib.pyplot as plt\n",
        "import numpy as np\n",
        "from sklearn.neighbors import KNeighborsClassifier\n",
        "from sklearn.metrics import roc_curve, auc, f1_score, accuracy_score, precision_score, recall_score, confusion_matrix\n",
        "from sklearn.model_selection import StratifiedKFold\n",
        "import joblib\n",
        "\n",
        "# Assuming X and y are already defined and preprocessed\n",
        "# X = ... # Your features\n",
        "# y = ... # Your target variable\n",
        "\n",
        "n_splits = 10\n",
        "cv = StratifiedKFold(n_splits=n_splits)\n",
        "\n",
        "classifier = KNeighborsClassifier(n_neighbors=5)  # You can adjust the number of neighbors\n",
        "\n",
        "# Initialize lists to store metrics\n",
        "tprs = []\n",
        "aucs = []\n",
        "mean_fpr = np.linspace(0, 1, 100)\n",
        "\n",
        "# Initialize Series to store AUC of folds\n",
        "AUC_collection = pd.Series(dtype=float)\n",
        "\n",
        "# Initialize lists to store other metrics\n",
        "f1_scores = []\n",
        "accuracies = []\n",
        "precisions = []\n",
        "recalls = []\n",
        "specificities = []\n",
        "\n",
        "for fold, (train, test) in enumerate(cv.split(X, y)):\n",
        "    classifier.fit(X[train], y[train])\n",
        "    y_pred = classifier.predict(X[test])\n",
        "    y_proba = classifier.predict_proba(X[test])[:, 1]\n",
        "\n",
        "    # Compute ROC curve and AUC\n",
        "    fpr, tpr, _ = roc_curve(y[test], y_proba)\n",
        "    roc_auc = auc(fpr, tpr)\n",
        "    interp_tpr = np.interp(mean_fpr, fpr, tpr)\n",
        "    interp_tpr[0] = 0.0\n",
        "    tprs.append(interp_tpr)\n",
        "    aucs.append(roc_auc)\n",
        "\n",
        "    # Store AUC in Series\n",
        "    AUC_collection[f'Fold {fold+1}'] = roc_auc\n",
        "\n",
        "    # Compute other metrics\n",
        "    f1_scores.append(f1_score(y[test], y_pred))\n",
        "    accuracies.append(accuracy_score(y[test], y_pred))\n",
        "    precisions.append(precision_score(y[test], y_pred))\n",
        "    recalls.append(recall_score(y[test], y_pred))\n",
        "    tn, fp, fn, tp = confusion_matrix(y[test], y_pred).ravel()\n",
        "    specificity = tn / (tn+fp)\n",
        "    specificities.append(specificity)\n",
        "\n",
        "mean_tpr = np.mean(tprs, axis=0)\n",
        "mean_tpr[-1] = 1.0\n",
        "mean_auc = auc(mean_fpr, mean_tpr)\n",
        "\n",
        "plt.figure(figsize=(6, 6))\n",
        "plt.plot(mean_fpr, mean_tpr, color='#FF5733',\n",
        "         #label=r'Mean ROC (AUC = %0.2f)' % (mean_auc),\n",
        "         label=r\"Mean ROC (AUC = %0.2f $\\pm$ %0.2f)\" % (mean_auc, std_auc),\n",
        "         lw=2, alpha=0.8)\n",
        "std_tpr = np.std(tprs, axis=0)\n",
        "tprs_upper = np.minimum(mean_tpr + std_tpr, 1)\n",
        "tprs_lower = np.maximum(mean_tpr - std_tpr, 0)\n",
        "# ax.fill_between(\n",
        "#     mean_fpr,\n",
        "#     tprs_lower,\n",
        "#     tprs_upper,\n",
        "#     color=\"grey\",\n",
        "#     alpha=0.2,\n",
        "#     label=r\"$\\pm$ 1 std. dev.\",\n",
        "# )\n",
        "plt.xlabel('False Positive Rate')\n",
        "plt.ylabel('True Positive Rate')\n",
        "plt.title('Mean ROC curve')\n",
        "plt.legend(loc='lower right')\n",
        "plt.show()\n",
        "\n",
        "# Print the metrics\n",
        "print(f'Mean F1 Score: {np.mean(f1_scores)}')\n",
        "print(f'Mean Accuracy: {np.mean(accuracies)}')\n",
        "print(f'Mean Precision: {np.mean(precisions)}')\n",
        "print(f'Mean Recall: {np.mean(recalls)}')\n",
        "print(f'Mean Specificity: {np.mean(specificities)}')\n",
        "\n",
        "# Display the confusion matrix for the last fold\n",
        "cm = confusion_matrix(y[test], y_pred)\n",
        "plt.figure(figsize=(6, 6))\n",
        "plt.matshow(cm, cmap=plt.cm.Blues, alpha=0.3)\n",
        "for i in range(cm.shape[0]):\n",
        "    for j in range(cm.shape[1]):\n",
        "        plt.text(x=j, y=i, s=cm[i, j], va='center', ha='center')\n",
        "plt.xlabel('Predicted labels')\n",
        "plt.ylabel('True labels')\n",
        "plt.title('Confusion Matrix')\n",
        "plt.show()\n",
        "\n",
        "# Print AUC collection\n",
        "print(AUC_collection)\n",
        "\n",
        "# Save the trained model to a file\n",
        "joblib.dump(classifier, 'KNN_model.joblib')\n",
        "\n",
        "# Save other metrics to a dictionary\n",
        "metrics = {\n",
        "    'AUC_collection': AUC_collection,\n",
        "    'Mean F1 Score': np.mean(f1_scores),\n",
        "    'Mean Accuracy': np.mean(accuracies),\n",
        "    'Mean Precision': np.mean(precisions),\n",
        "    'Mean Recall': np.mean(recalls),\n",
        "    'Mean Specificity': np.mean(specificities)\n",
        "}\n",
        "\n",
        "# Save the metrics dictionary to a file\n",
        "joblib.dump(metrics, 'KNN_metrics.joblib')\n",
        "\n",
        "# Print a success message\n",
        "print(\"The K-Nearest Neighbours Classifier model and metrics have been saved successfully.\")\n"
      ],
      "metadata": {
        "colab": {
          "base_uri": "https://localhost:8080/",
          "height": 1000
        },
        "id": "cl3xkea9LLsR",
        "outputId": "e8cfb51c-1710-4a8e-872a-bb12c52bbb32"
      },
      "execution_count": null,
      "outputs": [
        {
          "output_type": "display_data",
          "data": {
            "text/plain": [
              "<Figure size 600x600 with 1 Axes>"
            ],
            "image/png": "[encoded data removed]"
          },
          "metadata": {}
        },
        {
          "output_type": "stream",
          "name": "stdout",
          "text": [
            "Mean F1 Score: 0.9397630850176617\n",
            "Mean Accuracy: 0.887458688692468\n",
            "Mean Precision: 0.9004615860902202\n",
            "Mean Recall: 0.9826986033219199\n",
            "Mean Specificity: 0.08783783783783784\n"
          ]
        },
        {
          "output_type": "display_data",
          "data": {
            "text/plain": [
              "<Figure size 600x600 with 0 Axes>"
            ]
          },
          "metadata": {}
        },
        {
          "output_type": "display_data",
          "data": {
            "text/plain": [
              "<Figure size 480x480 with 1 Axes>"
            ],
            "image/png": "[encoded data removed]"
          },
          "metadata": {}
        },
        {
          "output_type": "stream",
          "name": "stdout",
          "text": [
            "Fold 1     0.650706\n",
            "Fold 2     0.642446\n",
            "Fold 3     0.693475\n",
            "Fold 4     0.647507\n",
            "Fold 5     0.671487\n",
            "Fold 6     0.691195\n",
            "Fold 7     0.674590\n",
            "Fold 8     0.624739\n",
            "Fold 9     0.654872\n",
            "Fold 10    0.715259\n",
            "dtype: float64\n",
            "The K-Nearest Neighbours Classifier model and metrics have been saved successfully.\n"
          ]
        }
      ]
    },
    {
      "cell_type": "markdown",
      "source": [
        "## Neural Network"
      ],
      "metadata": {
        "id": "UTjLvzy4f2SV"
      }
    },
    {
      "cell_type": "code",
      "source": [
        "pip install tensorflow"
      ],
      "metadata": {
        "colab": {
          "base_uri": "https://localhost:8080/"
        },
        "id": "eSCqtbDdPRER",
        "outputId": "abff9479-4eb4-4a9c-8770-979e3d4bb847"
      },
      "execution_count": null,
      "outputs": [
        {
          "output_type": "stream",
          "name": "stdout",
          "text": [
            "Requirement already satisfied: tensorflow in /usr/local/lib/python3.10/dist-packages (2.15.0)\n",
            "Requirement already satisfied: absl-py>=1.0.0 in /usr/local/lib/python3.10/dist-packages (from tensorflow) (1.4.0)\n",
            "Requirement already satisfied: astunparse>=1.6.0 in /usr/local/lib/python3.10/dist-packages (from tensorflow) (1.6.3)\n",
            "Requirement already satisfied: flatbuffers>=23.5.26 in /usr/local/lib/python3.10/dist-packages (from tensorflow) (24.3.25)\n",
            "Requirement already satisfied: gast!=0.5.0,!=0.5.1,!=0.5.2,>=0.2.1 in /usr/local/lib/python3.10/dist-packages (from tensorflow) (0.5.4)\n",
            "Requirement already satisfied: google-pasta>=0.1.1 in /usr/local/lib/python3.10/dist-packages (from tensorflow) (0.2.0)\n",
            "Requirement already satisfied: h5py>=2.9.0 in /usr/local/lib/python3.10/dist-packages (from tensorflow) (3.9.0)\n",
            "Requirement already satisfied: libclang>=13.0.0 in /usr/local/lib/python3.10/dist-packages (from tensorflow) (18.1.1)\n",
            "Requirement already satisfied: ml-dtypes~=0.2.0 in /usr/local/lib/python3.10/dist-packages (from tensorflow) (0.2.0)\n",
            "Requirement already satisfied: numpy<2.0.0,>=1.23.5 in /usr/local/lib/python3.10/dist-packages (from tensorflow) (1.25.2)\n",
            "Requirement already satisfied: opt-einsum>=2.3.2 in /usr/local/lib/python3.10/dist-packages (from tensorflow) (3.3.0)\n",
            "Requirement already satisfied: packaging in /usr/local/lib/python3.10/dist-packages (from tensorflow) (24.0)\n",
            "Requirement already satisfied: protobuf!=4.21.0,!=4.21.1,!=4.21.2,!=4.21.3,!=4.21.4,!=4.21.5,<5.0.0dev,>=3.20.3 in /usr/local/lib/python3.10/dist-packages (from tensorflow) (3.20.3)\n",
            "Requirement already satisfied: setuptools in /usr/local/lib/python3.10/dist-packages (from tensorflow) (67.7.2)\n",
            "Requirement already satisfied: six>=1.12.0 in /usr/local/lib/python3.10/dist-packages (from tensorflow) (1.16.0)\n",
            "Requirement already satisfied: termcolor>=1.1.0 in /usr/local/lib/python3.10/dist-packages (from tensorflow) (2.4.0)\n",
            "Requirement already satisfied: typing-extensions>=3.6.6 in /usr/local/lib/python3.10/dist-packages (from tensorflow) (4.11.0)\n",
            "Requirement already satisfied: wrapt<1.15,>=1.11.0 in /usr/local/lib/python3.10/dist-packages (from tensorflow) (1.14.1)\n",
            "Requirement already satisfied: tensorflow-io-gcs-filesystem>=0.23.1 in /usr/local/lib/python3.10/dist-packages (from tensorflow) (0.36.0)\n",
            "Requirement already satisfied: grpcio<2.0,>=1.24.3 in /usr/local/lib/python3.10/dist-packages (from tensorflow) (1.62.1)\n",
            "Requirement already satisfied: tensorboard<2.16,>=2.15 in /usr/local/lib/python3.10/dist-packages (from tensorflow) (2.15.2)\n",
            "Requirement already satisfied: tensorflow-estimator<2.16,>=2.15.0 in /usr/local/lib/python3.10/dist-packages (from tensorflow) (2.15.0)\n",
            "Requirement already satisfied: keras<2.16,>=2.15.0 in /usr/local/lib/python3.10/dist-packages (from tensorflow) (2.15.0)\n",
            "Requirement already satisfied: wheel<1.0,>=0.23.0 in /usr/local/lib/python3.10/dist-packages (from astunparse>=1.6.0->tensorflow) (0.43.0)\n",
            "Requirement already satisfied: google-auth<3,>=1.6.3 in /usr/local/lib/python3.10/dist-packages (from tensorboard<2.16,>=2.15->tensorflow) (2.27.0)\n",
            "Requirement already satisfied: google-auth-oauthlib<2,>=0.5 in /usr/local/lib/python3.10/dist-packages (from tensorboard<2.16,>=2.15->tensorflow) (1.2.0)\n",
            "Requirement already satisfied: markdown>=2.6.8 in /usr/local/lib/python3.10/dist-packages (from tensorboard<2.16,>=2.15->tensorflow) (3.6)\n",
            "Requirement already satisfied: requests<3,>=2.21.0 in /usr/local/lib/python3.10/dist-packages (from tensorboard<2.16,>=2.15->tensorflow) (2.31.0)\n",
            "Requirement already satisfied: tensorboard-data-server<0.8.0,>=0.7.0 in /usr/local/lib/python3.10/dist-packages (from tensorboard<2.16,>=2.15->tensorflow) (0.7.2)\n",
            "Requirement already satisfied: werkzeug>=1.0.1 in /usr/local/lib/python3.10/dist-packages (from tensorboard<2.16,>=2.15->tensorflow) (3.0.2)\n",
            "Requirement already satisfied: cachetools<6.0,>=2.0.0 in /usr/local/lib/python3.10/dist-packages (from google-auth<3,>=1.6.3->tensorboard<2.16,>=2.15->tensorflow) (5.3.3)\n",
            "Requirement already satisfied: pyasn1-modules>=0.2.1 in /usr/local/lib/python3.10/dist-packages (from google-auth<3,>=1.6.3->tensorboard<2.16,>=2.15->tensorflow) (0.4.0)\n",
            "Requirement already satisfied: rsa<5,>=3.1.4 in /usr/local/lib/python3.10/dist-packages (from google-auth<3,>=1.6.3->tensorboard<2.16,>=2.15->tensorflow) (4.9)\n",
            "Requirement already satisfied: requests-oauthlib>=0.7.0 in /usr/local/lib/python3.10/dist-packages (from google-auth-oauthlib<2,>=0.5->tensorboard<2.16,>=2.15->tensorflow) (1.3.1)\n",
            "Requirement already satisfied: charset-normalizer<4,>=2 in /usr/local/lib/python3.10/dist-packages (from requests<3,>=2.21.0->tensorboard<2.16,>=2.15->tensorflow) (3.3.2)\n",
            "Requirement already satisfied: idna<4,>=2.5 in /usr/local/lib/python3.10/dist-packages (from requests<3,>=2.21.0->tensorboard<2.16,>=2.15->tensorflow) (3.7)\n",
            "Requirement already satisfied: urllib3<3,>=1.21.1 in /usr/local/lib/python3.10/dist-packages (from requests<3,>=2.21.0->tensorboard<2.16,>=2.15->tensorflow) (2.0.7)\n",
            "Requirement already satisfied: certifi>=2017.4.17 in /usr/local/lib/python3.10/dist-packages (from requests<3,>=2.21.0->tensorboard<2.16,>=2.15->tensorflow) (2024.2.2)\n",
            "Requirement already satisfied: MarkupSafe>=2.1.1 in /usr/local/lib/python3.10/dist-packages (from werkzeug>=1.0.1->tensorboard<2.16,>=2.15->tensorflow) (2.1.5)\n",
            "Requirement already satisfied: pyasn1<0.7.0,>=0.4.6 in /usr/local/lib/python3.10/dist-packages (from pyasn1-modules>=0.2.1->google-auth<3,>=1.6.3->tensorboard<2.16,>=2.15->tensorflow) (0.6.0)\n",
            "Requirement already satisfied: oauthlib>=3.0.0 in /usr/local/lib/python3.10/dist-packages (from requests-oauthlib>=0.7.0->google-auth-oauthlib<2,>=0.5->tensorboard<2.16,>=2.15->tensorflow) (3.2.2)\n"
          ]
        }
      ]
    },
    {
      "cell_type": "code",
      "source": [
        "import matplotlib.pyplot as plt\n",
        "import numpy as np\n",
        "import pandas as pd\n",
        "from sklearn.model_selection import StratifiedKFold\n",
        "from sklearn.metrics import roc_curve, auc, confusion_matrix\n",
        "from tensorflow.keras.models import Sequential\n",
        "from tensorflow.keras.layers import Dense\n",
        "from tensorflow.keras.utils import to_categorical\n",
        "import joblib\n",
        "\n",
        "# Assuming X and y are already defined and preprocessed\n",
        "# X = ... # Your features\n",
        "# y = ... # Your target variable, needs to be one-hot encoded for neural network\n",
        "# y = to_categorical(y)\n",
        "\n",
        "n_splits = 10\n",
        "cv = StratifiedKFold(n_splits=n_splits)\n",
        "\n",
        "# Define a simple neural network model\n",
        "def create_model(input_dim):\n",
        "    model = Sequential()\n",
        "    model.add(Dense(64, input_dim=input_dim, activation='relu'))\n",
        "    model.add(Dense(32, activation='relu'))\n",
        "    model.add(Dense(2, activation='softmax'))  # Use '2' for binary classification\n",
        "    model.compile(optimizer='adam', loss='categorical_crossentropy', metrics=['accuracy'])\n",
        "    return model\n",
        "\n",
        "# One-hot encode the target variable 'y'\n",
        "y_one_hot = to_categorical(y)\n",
        "\n",
        "# Initialize lists to store metrics\n",
        "tprs = []\n",
        "aucs = []\n",
        "mean_fpr = np.linspace(0, 1, 100)\n",
        "\n",
        "# Initialize Series to store AUC of folds\n",
        "AUC_collection = pd.Series(dtype=float)\n",
        "\n",
        "for fold, (train, test) in enumerate(cv.split(X, y)):\n",
        "    model = create_model(X.shape[1])\n",
        "    model.fit(X[train], y_one_hot[train], epochs=50, batch_size=32, verbose=0)\n",
        "\n",
        "    # Predict probabilities and classes\n",
        "    y_pred_proba = model.predict(X[test])\n",
        "    y_pred = np.argmax(y_pred_proba, axis=1)\n",
        "\n",
        "    # Compute ROC curve and AUC\n",
        "    fpr, tpr, _ = roc_curve(y[test], y_pred_proba[:, 1])\n",
        "    roc_auc = auc(fpr, tpr)\n",
        "    interp_tpr = np.interp(mean_fpr, fpr, tpr)\n",
        "    interp_tpr[0] = 0.0\n",
        "    tprs.append(interp_tpr)\n",
        "    aucs.append(roc_auc)\n",
        "\n",
        "    # Store AUC in Series\n",
        "    AUC_collection[f'Fold {fold+1}'] = roc_auc\n",
        "\n",
        "mean_tpr = np.mean(tprs, axis=0)\n",
        "mean_tpr[-1] = 1.0\n",
        "mean_auc = auc(mean_fpr, mean_tpr)\n",
        "std_auc = np.std(aucs)\n",
        "\n",
        "# Plotting and other metrics calculations remain the same\n",
        "plt.figure(figsize=(6, 6))\n",
        "plt.plot(mean_fpr, mean_tpr, color='#FF5733',\n",
        "         #label=r'Mean ROC (AUC = %0.2f)' % (mean_auc),\n",
        "         label=r\"Mean ROC (AUC = %0.2f $\\pm$ %0.2f)\" % (mean_auc, std_auc),\n",
        "         lw=2, alpha=0.8)\n",
        "std_tpr = np.std(tprs, axis=0)\n",
        "tprs_upper = np.minimum(mean_tpr + std_tpr, 1)\n",
        "tprs_lower = np.maximum(mean_tpr - std_tpr, 0)\n",
        "# ax.fill_between(\n",
        "#     mean_fpr,\n",
        "#     tprs_lower,\n",
        "#     tprs_upper,\n",
        "#     color=\"grey\",\n",
        "#     alpha=0.2,\n",
        "#     label=r\"$\\pm$ 1 std. dev.\",\n",
        "# )\n",
        "plt.xlabel('False Positive Rate')\n",
        "plt.ylabel('True Positive Rate')\n",
        "plt.title('Mean ROC curve')\n",
        "plt.legend(loc='lower right')\n",
        "plt.show()\n",
        "\n",
        "# Print the metrics\n",
        "print(f'Mean F1 Score: {np.mean(f1_scores)}')\n",
        "print(f'Mean Accuracy: {np.mean(accuracies)}')\n",
        "print(f'Mean Precision: {np.mean(precisions)}')\n",
        "print(f'Mean Recall: {np.mean(recalls)}')\n",
        "print(f'Mean Specificity: {np.mean(specificities)}')\n",
        "\n",
        "# Display the confusion matrix for the last fold\n",
        "cm = confusion_matrix(y[test], y_pred)\n",
        "plt.figure(figsize=(6, 6))\n",
        "plt.matshow(cm, cmap=plt.cm.Blues, alpha=0.3)\n",
        "for i in range(cm.shape[0]):\n",
        "    for j in range(cm.shape[1]):\n",
        "        plt.text(x=j, y=i, s=cm[i, j], va='center', ha='center')\n",
        "plt.xlabel('Predicted labels')\n",
        "plt.ylabel('True labels')\n",
        "plt.title('Confusion Matrix')\n",
        "plt.show()\n",
        "\n",
        "# Print AUC collection\n",
        "print(AUC_collection)\n",
        "\n",
        "# Save the trained model to a file\n",
        "joblib.dump(classifier, 'KNN_model.joblib')\n",
        "\n",
        "# Save other metrics to a dictionary\n",
        "metrics = {\n",
        "    'AUC_collection': AUC_collection,\n",
        "    'Mean F1 Score': np.mean(f1_scores),\n",
        "    'Mean Accuracy': np.mean(accuracies),\n",
        "    'Mean Precision': np.mean(precisions),\n",
        "    'Mean Recall': np.mean(recalls),\n",
        "    'Mean Specificity': np.mean(specificities)\n",
        "}\n",
        "\n",
        "# Save the trained model to a file\n",
        "model.save('NN_model.h5')  # Save the model in HDF5 file format\n",
        "\n",
        "# Save AUC collection to a file\n",
        "joblib.dump(AUC_collection, 'NN_AUC_collection.joblib')\n",
        "\n",
        "# Print a success message\n",
        "print(\"The Neural Network model and AUC collection have been saved successfully.\")\n"
      ],
      "metadata": {
        "colab": {
          "base_uri": "https://localhost:8080/",
          "height": 1000
        },
        "id": "blhRk8qWVqIi",
        "outputId": "03e834cd-e27d-44d0-d0b0-fc09f99b2ea0"
      },
      "execution_count": null,
      "outputs": [
        {
          "output_type": "stream",
          "name": "stdout",
          "text": [
            "18/18 [==============================] - 0s 2ms/step\n",
            "18/18 [==============================] - 0s 3ms/step\n",
            "18/18 [==============================] - 0s 2ms/step\n",
            "18/18 [==============================] - 0s 2ms/step\n",
            "18/18 [==============================] - 0s 2ms/step\n",
            "18/18 [==============================] - 0s 2ms/step\n",
            "18/18 [==============================] - 0s 3ms/step\n",
            "18/18 [==============================] - 0s 2ms/step\n",
            "18/18 [==============================] - 0s 2ms/step\n",
            "18/18 [==============================] - 0s 2ms/step\n"
          ]
        },
        {
          "output_type": "display_data",
          "data": {
            "text/plain": [
              "<Figure size 600x600 with 1 Axes>"
            ],
            "image/png": "[encoded data removed]"
          },
          "metadata": {}
        },
        {
          "output_type": "stream",
          "name": "stdout",
          "text": [
            "Mean F1 Score: 0.8280356232902426\n",
            "Mean Accuracy: 0.7250124839604812\n",
            "Mean Precision: 0.7667004559967714\n",
            "Mean Recall: 0.9007869157790582\n",
            "Mean Specificity: 0.23310810810810811\n"
          ]
        },
        {
          "output_type": "display_data",
          "data": {
            "text/plain": [
              "<Figure size 600x600 with 0 Axes>"
            ]
          },
          "metadata": {}
        },
        {
          "output_type": "display_data",
          "data": {
            "text/plain": [
              "<Figure size 480x480 with 1 Axes>"
            ],
            "image/png": "[encoded data removed]"
          },
          "metadata": {}
        },
        {
          "output_type": "stream",
          "name": "stdout",
          "text": [
            "Fold 1     0.650293\n",
            "Fold 2     0.697395\n",
            "Fold 3     0.808297\n",
            "Fold 4     0.671351\n",
            "Fold 5     0.589388\n",
            "Fold 6     0.711842\n",
            "Fold 7     0.713515\n",
            "Fold 8     0.838344\n",
            "Fold 9     0.733541\n",
            "Fold 10    0.747609\n",
            "dtype: float64\n",
            "The Neural Network model and AUC collection have been saved successfully.\n"
          ]
        },
        {
          "output_type": "stream",
          "name": "stderr",
          "text": [
            "/usr/local/lib/python3.10/dist-packages/keras/src/engine/training.py:3103: UserWarning: You are saving your model as an HDF5 file via `model.save()`. This file format is considered legacy. We recommend using instead the native Keras format, e.g. `model.save('my_model.keras')`.\n",
            "  saving_api.save_model(\n"
          ]
        }
      ]
    },
    {
      "cell_type": "markdown",
      "source": [
        "## XGB model"
      ],
      "metadata": {
        "id": "vodAoRVt_jLq"
      }
    },
    {
      "cell_type": "code",
      "source": [
        "import matplotlib.pyplot as plt\n",
        "import numpy as np\n",
        "import pandas as pd\n",
        "from sklearn.svm import SVC\n",
        "from sklearn.metrics import roc_curve, auc, f1_score, accuracy_score, precision_score, recall_score, confusion_matrix\n",
        "from sklearn.model_selection import StratifiedKFold\n",
        "import joblib\n",
        "\n",
        "# Assuming X and y are already defined and preprocessed\n",
        "# X = ... # Your features\n",
        "# y = ... # Your target variable\n",
        "\n",
        "n_splits = 10\n",
        "cv = StratifiedKFold(n_splits=n_splits)\n",
        "\n",
        "classifier = SVC(probability=True)\n",
        "\n",
        "# Initialize lists to store metrics\n",
        "tprs = []\n",
        "aucs = []\n",
        "mean_fpr = np.linspace(0, 1, 100)\n",
        "\n",
        "# Initialize Series to store AUC of folds\n",
        "AUC_collection = pd.Series(dtype=float)\n",
        "\n",
        "# Initialize lists to store other metrics\n",
        "f1_scores = []\n",
        "accuracies = []\n",
        "precisions = []\n",
        "recalls = []\n",
        "specificities = []\n",
        "\n",
        "for fold, (train, test) in enumerate(cv.split(X, y)):\n",
        "    classifier.fit(X[train], y[train])\n",
        "    y_pred = classifier.predict(X[test])\n",
        "    y_proba = classifier.predict_proba(X[test])[:, 1]\n",
        "\n",
        "    # Compute ROC curve and AUC\n",
        "    fpr, tpr, _ = roc_curve(y[test], y_proba)\n",
        "    roc_auc = auc(fpr, tpr)\n",
        "    interp_tpr = np.interp(mean_fpr, fpr, tpr)\n",
        "    interp_tpr[0] = 0.0\n",
        "    tprs.append(interp_tpr)\n",
        "    aucs.append(roc_auc)\n",
        "\n",
        "    # Store AUC in Series\n",
        "    AUC_collection[f'Fold {fold+1}'] = roc_auc\n",
        "\n",
        "    # Compute other metrics\n",
        "    f1_scores.append(f1_score(y[test], y_pred))\n",
        "    accuracies.append(accuracy_score(y[test], y_pred))\n",
        "    precisions.append(precision_score(y[test], y_pred))\n",
        "    recalls.append(recall_score(y[test], y_pred))\n",
        "    tn, fp, fn, tp = confusion_matrix(y[test], y_pred).ravel()\n",
        "    specificity = tn / (tn+fp)\n",
        "    specificities.append(specificity)\n",
        "\n",
        "mean_tpr = np.mean(tprs, axis=0)\n",
        "mean_tpr[-1] = 1.0\n",
        "mean_auc = auc(mean_fpr, mean_tpr)\n",
        "std_auc = np.std(aucs)\n",
        "\n",
        "plt.figure(figsize=(6, 6))\n",
        "plt.plot(mean_fpr, mean_tpr, color='blue',\n",
        "         label=r\"Mean ROC (AUC = %0.2f $\\pm$ %0.2f)\" % (mean_auc, std_auc),\n",
        "         lw=2, alpha=0.8)\n",
        "\n",
        "std_tpr = np.std(tprs, axis=0)\n",
        "tprs_upper = np.minimum(mean_tpr + std_tpr, 1)\n",
        "tprs_lower = np.maximum(mean_tpr - std_tpr, 0)\n",
        "\n",
        "plt.xlabel('False Positive Rate')\n",
        "plt.ylabel('True Positive Rate')\n",
        "plt.title('Mean ROC curve')\n",
        "plt.legend(loc='lower right')\n",
        "plt.show()\n",
        "\n",
        "# Print the metrics\n",
        "print(f'Mean F1 Score: {np.mean(f1_scores)}')\n",
        "print(f'Mean Accuracy: {np.mean(accuracies)}')\n",
        "print(f'Mean Precision: {np.mean(precisions)}')\n",
        "print(f'Mean Recall: {np.mean(recalls)}')\n",
        "print(f'Mean Specificity: {np.mean(specificities)}')\n",
        "\n",
        "# Display the confusion matrix for the last fold\n",
        "cm = confusion_matrix(y[test], y_pred)\n",
        "plt.figure(figsize=(6, 6))\n",
        "plt.matshow(cm, cmap=plt.cm.Blues, alpha=0.3)\n",
        "for i in range(cm.shape[0]):\n",
        "    for j in range(cm.shape[1]):\n",
        "        plt.text(x=j, y=i, s=cm[i, j], va='center', ha='center')\n",
        "plt.xlabel('Predicted labels')\n",
        "plt.ylabel('True labels')\n",
        "plt.title('Confusion Matrix')\n",
        "plt.show()\n",
        "\n",
        "# Print AUC collection\n",
        "print(AUC_collection)\n",
        "\n",
        "# Save the trained model to a file\n",
        "joblib.dump(classifier, 'SVM_model.joblib')\n",
        "\n",
        "# Save other metrics to a dictionary\n",
        "metrics = {\n",
        "    'AUC_collection': AUC_collection,\n",
        "    'Mean F1 Score': np.mean(f1_scores),\n",
        "    'Mean Accuracy': np.mean(accuracies),\n",
        "    'Mean Precision': np.mean(precisions),\n",
        "    'Mean Recall': np.mean(recalls),\n",
        "    'Mean Specificity': np.mean(specificities)\n",
        "}\n",
        "\n",
        "# Save the metrics dictionary to a file\n",
        "joblib.dump(metrics, 'SVM_metrics.joblib')\n",
        "\n",
        "# Print a success message\n",
        "print(\"The SVM model and metrics have been saved successfully.\")\n"
      ],
      "metadata": {
        "colab": {
          "base_uri": "https://localhost:8080/",
          "height": 1000
        },
        "id": "B9PTXHiY_itr",
        "outputId": "91160d86-5f1c-4bff-dbb4-a45799ab75c0"
      },
      "execution_count": null,
      "outputs": [
        {
          "output_type": "display_data",
          "data": {
            "text/plain": [
              "<Figure size 600x600 with 1 Axes>"
            ],
            "image/png": "[encoded data removed]"
          },
          "metadata": {}
        },
        {
          "output_type": "stream",
          "name": "stdout",
          "text": [
            "Mean F1 Score: 0.9438304858430543\n",
            "Mean Accuracy: 0.8936430496149448\n",
            "Mean Precision: 0.8936354358355579\n",
            "Mean Recall: 1.0\n",
            "Mean Specificity: 0.0006756756756756757\n"
          ]
        },
        {
          "output_type": "display_data",
          "data": {
            "text/plain": [
              "<Figure size 600x600 with 0 Axes>"
            ]
          },
          "metadata": {}
        },
        {
          "output_type": "display_data",
          "data": {
            "text/plain": [
              "<Figure size 480x480 with 1 Axes>"
            ],
            "image/png": "[encoded data removed]"
          },
          "metadata": {}
        },
        {
          "output_type": "stream",
          "name": "stdout",
          "text": [
            "Fold 1     0.689543\n",
            "Fold 2     0.654585\n",
            "Fold 3     0.687162\n",
            "Fold 4     0.654147\n",
            "Fold 5     0.630906\n",
            "Fold 6     0.658759\n",
            "Fold 7     0.637681\n",
            "Fold 8     0.622867\n",
            "Fold 9     0.641016\n",
            "Fold 10    0.702240\n",
            "dtype: float64\n",
            "The SVM model and metrics have been saved successfully.\n"
          ]
        }
      ]
    },
    {
      "cell_type": "markdown",
      "source": [
        "# Combination of mutiple curves"
      ],
      "metadata": {
        "id": "yTOZFS8R-fEF"
      }
    },
    {
      "cell_type": "code",
      "source": [
        "import matplotlib.pyplot as plt\n",
        "from sklearn.metrics import roc_curve, auc\n",
        "import joblib\n",
        "\n",
        "# Load the stored models\n",
        "rfc_model = joblib.load('RFC_model.joblib')\n",
        "svm_model = joblib.load('SVM_model.joblib')\n",
        "# other_model_2 = joblib.load('other_model_2.joblib')\n",
        "# ... load other models as needed\n",
        "\n",
        "# Assuming you have the true labels and the test features\n",
        "true_labels = y\n",
        "test_features = X\n",
        "\n",
        "# Predict probabilities for the test set using the loaded models\n",
        "rfc_proba = rfc_model.predict_proba(test_features)[:, 1]\n",
        "svm_proba = svm_model.predict_proba(test_features)[:, 1]\n",
        "# proba_other_model_2 = other_model_2.predict_proba(test_features)[:, 1]\n",
        "# ... predict probabilities for other models\n",
        "\n",
        "# Compute ROC curve and AUC for each model\n",
        "fpr_rfc, tpr_rfc, _ = roc_curve(true_labels, rfc_proba)\n",
        "auc_rfc = auc(fpr_rfc, tpr_rfc)\n",
        "\n",
        "fpr_svm, tpr_svm, _ = roc_curve(true_labels, svm_proba)\n",
        "auc_svm = auc(fpr_svm, tpr_svm)\n",
        "\n",
        "# fpr_other_model_2, tpr_other_model_2, _ = roc_curve(true_labels, proba_other_model_2)\n",
        "# auc_other_model_2 = auc(fpr_other_model_2, tpr_other_model_2)\n",
        "\n",
        "# ... compute ROC and AUC for other models\n",
        "\n",
        "# Initialize plot\n",
        "plt.figure(figsize=(8, 6))\n",
        "\n",
        "# Plot ROC curve for each model\n",
        "plt.plot(fpr_rfc, tpr_rfc, label=f'Random Forest (AUC = {auc_rfc:.2f})')\n",
        "plt.plot(fpr_svm, tpr_svm, label=f'Support Vector Machine (AUC = {auc_svm:.2f})')\n",
        "# plt.plot(fpr_other_model_2, tpr_other_model_2, label=f'Other Model 2 (AUC = {auc_other_model_2:.2f})')\n",
        "# ... plot ROC for other models\n",
        "\n",
        "# Plot the random chance line\n",
        "plt.plot([0, 1], [0, 1], color='navy', lw=2, linestyle='--', label='Chance')\n",
        "\n",
        "# Customize the plot\n",
        "plt.xlim([0.0, 1.0])\n",
        "plt.ylim([0.0, 1.05])\n",
        "plt.xlabel('False Positive Rate')\n",
        "plt.ylabel('True Positive Rate')\n",
        "plt.title('Receiver Operating Characteristic (ROC) Curves')\n",
        "plt.legend(loc='lower right')\n",
        "plt.show()\n"
      ],
      "metadata": {
        "colab": {
          "base_uri": "https://localhost:8080/",
          "height": 564
        },
        "id": "tHJKokHB-fZ8",
        "outputId": "c244d39b-834c-4a15-c53e-52850080d1db"
      },
      "execution_count": null,
      "outputs": [
        {
          "output_type": "display_data",
          "data": {
            "text/plain": [
              "<Figure size 800x600 with 1 Axes>"
            ],
            "image/png": "[encoded data removed]"
          },
          "metadata": {}
        }
      ]
    },
    {
      "cell_type": "code",
      "source": [],
      "metadata": {
        "id": "vOO1MIlVCiVf"
      },
      "execution_count": null,
      "outputs": []
    }
  ]
}